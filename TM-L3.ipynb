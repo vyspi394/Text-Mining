{
 "cells": [
  {
   "cell_type": "markdown",
   "metadata": {},
   "source": [
    "# L3: Text clustering and topic modelling"
   ]
  },
  {
   "cell_type": "markdown",
   "metadata": {},
   "source": [
    "Text clustering groups documents in such a way that documents within a group are more &lsquo;similar&rsquo; to other documents in the cluster than to documents not in the cluster. The exact definition of what &lsquo;similar&rsquo; means in this context varies across applications and clustering algorithms.\n",
    "\n",
    "In this lab you will experiment with both hard and soft clustering techniques. More specifically, in the first part you will be using the $k$-means algorithm, and in the second part you will be using a topic model based on the Latent Dirichlet Allocation (LDA)."
   ]
  },
  {
   "cell_type": "markdown",
   "metadata": {},
   "source": [
    "## Hard clustering data set"
   ]
  },
  {
   "cell_type": "markdown",
   "metadata": {},
   "source": [
    "The raw data for the hard clustering part of this lab is a collection of product reviews. We have preprocessed the data by tokenization and lowercasing."
   ]
  },
  {
   "cell_type": "code",
   "execution_count": 1,
   "metadata": {},
   "outputs": [],
   "source": [
    "import pandas as pd\n",
    "import bz2\n",
    "\n",
    "with bz2.open('reviews.json.bz2') as source:\n",
    "    df = pd.read_json(source)"
   ]
  },
  {
   "cell_type": "markdown",
   "metadata": {},
   "source": [
    "When you inspect the data frame, you can see that there are three labelled columns: `category` (the product category), `sentiment` (whether the product review was classified as &lsquo;positive&rsquo; or &lsquo;negative&rsquo; towards the product), and `text` (the space-separated text of the review)."
   ]
  },
  {
   "cell_type": "code",
   "execution_count": 2,
   "metadata": {},
   "outputs": [
    {
     "data": {
      "text/html": [
       "<div>\n",
       "<style scoped>\n",
       "    .dataframe tbody tr th:only-of-type {\n",
       "        vertical-align: middle;\n",
       "    }\n",
       "\n",
       "    .dataframe tbody tr th {\n",
       "        vertical-align: top;\n",
       "    }\n",
       "\n",
       "    .dataframe thead th {\n",
       "        text-align: right;\n",
       "    }\n",
       "</style>\n",
       "<table border=\"1\" class=\"dataframe\">\n",
       "  <thead>\n",
       "    <tr style=\"text-align: right;\">\n",
       "      <th></th>\n",
       "      <th>category</th>\n",
       "      <th>sentiment</th>\n",
       "      <th>text</th>\n",
       "    </tr>\n",
       "  </thead>\n",
       "  <tbody>\n",
       "    <tr>\n",
       "      <td>0</td>\n",
       "      <td>music</td>\n",
       "      <td>neg</td>\n",
       "      <td>i bought this album because i loved the title ...</td>\n",
       "    </tr>\n",
       "    <tr>\n",
       "      <td>1</td>\n",
       "      <td>music</td>\n",
       "      <td>neg</td>\n",
       "      <td>i was misled and thought i was buying the enti...</td>\n",
       "    </tr>\n",
       "    <tr>\n",
       "      <td>2</td>\n",
       "      <td>books</td>\n",
       "      <td>neg</td>\n",
       "      <td>i have introduced many of my ell , high school...</td>\n",
       "    </tr>\n",
       "    <tr>\n",
       "      <td>3</td>\n",
       "      <td>books</td>\n",
       "      <td>pos</td>\n",
       "      <td>anything you purchase in the left behind serie...</td>\n",
       "    </tr>\n",
       "    <tr>\n",
       "      <td>4</td>\n",
       "      <td>dvd</td>\n",
       "      <td>pos</td>\n",
       "      <td>i loved these movies , and i cant wiat for the...</td>\n",
       "    </tr>\n",
       "  </tbody>\n",
       "</table>\n",
       "</div>"
      ],
      "text/plain": [
       "  category sentiment                                               text\n",
       "0    music       neg  i bought this album because i loved the title ...\n",
       "1    music       neg  i was misled and thought i was buying the enti...\n",
       "2    books       neg  i have introduced many of my ell , high school...\n",
       "3    books       pos  anything you purchase in the left behind serie...\n",
       "4      dvd       pos  i loved these movies , and i cant wiat for the..."
      ]
     },
     "execution_count": 2,
     "metadata": {},
     "output_type": "execute_result"
    }
   ],
   "source": [
    "df.head()"
   ]
  },
  {
   "cell_type": "markdown",
   "metadata": {},
   "source": [
    "## Problem 1: K-means clustering"
   ]
  },
  {
   "cell_type": "markdown",
   "metadata": {},
   "source": [
    "Your first task is to cluster the product review data using a tf–idf vectorizer and a $k$-means clusterer."
   ]
  },
  {
   "cell_type": "markdown",
   "metadata": {},
   "source": [
    "Start by doing the vectorization. In connection with vectorization, you should also filter out standard English stop words. While you could use [spaCy](https://spacy.io/) for this task, here it suffices to use the word list implemented in [TfidfVectorizer](https://scikit-learn.org/stable/modules/generated/sklearn.feature_extraction.text.TfidfVectorizer.html)."
   ]
  },
  {
   "cell_type": "code",
   "execution_count": 3,
   "metadata": {},
   "outputs": [],
   "source": [
    "from sklearn.feature_extraction.text import TfidfVectorizer\n",
    "\n",
    "vectorizer = TfidfVectorizer(stop_words = 'english')\n",
    "\n",
    "reviews = vectorizer.fit_transform(df['text'][:])"
   ]
  },
  {
   "cell_type": "markdown",
   "metadata": {},
   "source": [
    "Test your vectorization by running the following code cell:"
   ]
  },
  {
   "cell_type": "code",
   "execution_count": 4,
   "metadata": {},
   "outputs": [
    {
     "data": {
      "text/plain": [
       "(11914, 46619)"
      ]
     },
     "execution_count": 4,
     "metadata": {},
     "output_type": "execute_result"
    }
   ],
   "source": [
    "reviews.shape"
   ]
  },
  {
   "cell_type": "markdown",
   "metadata": {},
   "source": [
    "If you used the English stop word list from scikit-learn, then the resulting vocabulary should have 46,619 entries."
   ]
  },
  {
   "cell_type": "markdown",
   "metadata": {},
   "source": [
    "Next, cluster the vectorized data. Before doing so, you should read the documentation of the [KMeans](https://scikit-learn.org/stable/modules/generated/sklearn.cluster.KMeans.html) class, which is scikit-learn&rsquo;s implementation of the $k$-means algorithm. As you can see, this class has several parameters that you can tweak. For now, the only parameter that you will have to set is the number of clusters. We recommend that you choose $k=3$.\n",
    "\n",
    "**Tip:** Training $k$-means models will take some time. To speed things up, you can use the `n_init` parameter to control the number of times that the clustering is re-computed with different initial values. The default value for this parameter is 10; here and in the rest of this lab, you may want to set this to a lower value."
   ]
  },
  {
   "cell_type": "code",
   "execution_count": 5,
   "metadata": {},
   "outputs": [
    {
     "data": {
      "text/plain": [
       "KMeans(max_iter=100, n_clusters=3, n_init=2)"
      ]
     },
     "execution_count": 5,
     "metadata": {},
     "output_type": "execute_result"
    }
   ],
   "source": [
    "from sklearn.cluster import KMeans\n",
    "\n",
    "k = 3\n",
    "\n",
    "model = KMeans(n_clusters=k, init='k-means++', max_iter=100, n_init=2)\n",
    "model.fit(reviews)"
   ]
  },
  {
   "cell_type": "markdown",
   "metadata": {},
   "source": [
    "To sanity-check your clustering, create a bar plot with the number of documents per cluster."
   ]
  },
  {
   "cell_type": "code",
   "execution_count": 6,
   "metadata": {},
   "outputs": [
    {
     "data": {
      "text/plain": [
       "<Figure size 640x480 with 1 Axes>"
      ]
     },
     "metadata": {},
     "output_type": "display_data"
    }
   ],
   "source": [
    "import numpy as np\n",
    "import matplotlib.pyplot as plt\n",
    "\n",
    "pred_labels = model.labels_\n",
    "\n",
    "bars = np.unique(pred_labels)\n",
    "y_pos = np.arange(len(bars))\n",
    "\n",
    "plt.bar(y_pos,np.bincount(pred_labels))\n",
    "plt.bar(y_pos,bars)\n",
    "plt.show()"
   ]
  },
  {
   "cell_type": "markdown",
   "metadata": {},
   "source": [
    "Note that sizes may vary considerable between clusters and among different random seeds."
   ]
  },
  {
   "cell_type": "markdown",
   "metadata": {},
   "source": [
    "## Problem 2: Summarize clusters"
   ]
  },
  {
   "cell_type": "markdown",
   "metadata": {},
   "source": [
    "Once you have a clustering, you can try to see whether it is meaningful. One useful technique in that context is to generate a **summary** for each cluster by extracting the $n$ highest-weighted terms from the centroid of each cluster. Your next task is to implement this approach.\n",
    "\n",
    "**Hint:** You will need to construct an &lsquo;inverted vocabulary&rsquo; that allows you to map from the index of a term back to the original term."
   ]
  },
  {
   "cell_type": "code",
   "execution_count": 7,
   "metadata": {},
   "outputs": [
    {
     "name": "stdout",
     "output_type": "stream",
     "text": [
      "0: like product movie great just good cd album use time\n",
      "1: book read books author reading story quot like just good\n",
      "2: camera lens pictures canon digital use battery flash quality great\n"
     ]
    }
   ],
   "source": [
    "n =10\n",
    "inverted_vocab = {}\n",
    "for word, column_index in vectorizer.vocabulary_.items():\n",
    "    inverted_vocab[column_index] = word\n",
    "\n",
    "def summarize_cluster(center, inv_voc, n):\n",
    "    # the centroid is a vector; we'll first make a list of weights and their corresponding dimensions\n",
    "    center_index = [ (x, i) for i, x in enumerate(center) ]\n",
    "\n",
    "    # we sort this by the weights and select the top n\n",
    "    topn = sorted(center_index, reverse=True)[:n]\n",
    "\n",
    "    # we finally map this back to words, using the inverted vocabulary dict that we created above\n",
    "    return [ inv_voc[i] for _, i in topn ]\n",
    "\n",
    "for i, c in enumerate(model.cluster_centers_):\n",
    "    print('{}:'.format(i), ' '.join(summarize_cluster(c,inverted_vocab, n)))"
   ]
  },
  {
   "cell_type": "markdown",
   "metadata": {},
   "source": [
    "Once you have computed the cluster summaries, discuss their quality. Is it clear what the reviews in a given cluster are about? Which clusters are clearest? Which are less clear? Do the cluster summaries contain any unexpected terms? What happens if you re-cluster with, say, $k=6$?"
   ]
  },
  {
   "cell_type": "code",
   "execution_count": 8,
   "metadata": {},
   "outputs": [
    {
     "name": "stdout",
     "output_type": "stream",
     "text": [
      "0: book read books author reading story like quot just written\n",
      "1: album cd music songs quot song like just great band\n",
      "2: product great good like just use does hair time did\n",
      "3: software program product version use computer support easy windows microsoft\n",
      "4: movie film movies like story watch just good great acting\n",
      "5: camera lens pictures canon digital use flash battery quality great\n"
     ]
    }
   ],
   "source": [
    "k = 6\n",
    "model2 = KMeans(n_clusters=k, init='k-means++', max_iter=100, n_init=2)\n",
    "model2.fit(reviews)\n",
    "\n",
    "for i, c in enumerate(model2.cluster_centers_):\n",
    "    print('{}:'.format(i), ' '.join(summarize_cluster(c,inverted_vocab, n)))"
   ]
  },
  {
   "cell_type": "code",
   "execution_count": 9,
   "metadata": {},
   "outputs": [
    {
     "data": {
      "text/plain": [
       "array(['books', 'camera', 'dvd', 'health', 'music', 'software'],\n",
       "      dtype=object)"
      ]
     },
     "execution_count": 9,
     "metadata": {},
     "output_type": "execute_result"
    }
   ],
   "source": [
    "np.unique(df['category'][:])"
   ]
  },
  {
   "cell_type": "markdown",
   "metadata": {},
   "source": [
    "When k=3, cluster 0 starts to seems like about software and program but then we find unexpected words like 'great','used','easy' and 'just'. Hence cluster 0 is relatively unclear than the other two clusters. When k=5, the clusters have relatively more defined and clearer thean when k=3. This could be beacuse the original data has 6 categories. "
   ]
  },
  {
   "cell_type": "markdown",
   "metadata": {},
   "source": [
    "## Problem 3: Compare clusterings using the Rand index"
   ]
  },
  {
   "cell_type": "markdown",
   "metadata": {},
   "source": [
    "In some scenarios, you may have gold-standard class labels available for at least a subset of your documents. In these cases you can compute the **Rand index** of a clustering, and use this measure to compare the quality of different clusterings.\n",
    "\n",
    "To compute the Rand index, we view a clustering as a binary classifier on (unordered) pairs of documents. The classifier predicts &lsquo;positive&rsquo; if and only if the two documents belong to the same cluster. The (non-normalized) Rand index of the clustering is the accuracy of this classifier relative to a reference in which a document pair belongs to the &lsquo;positive&rsquo; class if and only if the two documents in the pair have the same gold-standard class label.\n",
    "\n",
    "Compare clusterings with $k \\in \\{1,3,5,7\\}$ clusters. As your evaluation data, use the first 500 documents from the original data set along with their gold-standard categories (from the `category` column). What do you observe? How do you interpret your observations?"
   ]
  },
  {
   "cell_type": "code",
   "execution_count": 10,
   "metadata": {},
   "outputs": [],
   "source": [
    "from itertools import combinations\n",
    "def rand_score (labels_true, labels_pred):\n",
    "    \n",
    "    pairs = list(combinations(range(len(labels_true)), 2)) #create list of all combinations with the length of labels.\n",
    "    \n",
    "    def is_equal(x):\n",
    "        return (x[0]==x[1])\n",
    "    \n",
    "    a = 0\n",
    "    b = 0\n",
    "    \n",
    "    for i in range(len(pairs)):\n",
    "            if(is_equal((labels_true[pairs[i][0]],labels_true[pairs[i][1]])) == is_equal((labels_pred[pairs[i][0]],\n",
    "                                                                                              labels_pred[pairs[i][1]])) \n",
    "               == is_equal((labels_pred[pairs[i][0]],labels_pred[pairs[i][1]])) == True):\n",
    "                a += 1\n",
    "            if(is_equal((labels_true[pairs[i][0]],labels_true[pairs[i][1]])) == is_equal((labels_pred[pairs[i][0]],\n",
    "                                                                                          labels_pred[pairs[i][1]])) \n",
    "               == is_equal((labels_pred[pairs[i][0]],labels_pred[pairs[i][1]])) == False):\n",
    "                b += 1\n",
    " \n",
    "    ri = (a + b) / len(pairs)\n",
    "    \n",
    "    return ri"
   ]
  },
  {
   "cell_type": "code",
   "execution_count": 11,
   "metadata": {},
   "outputs": [],
   "source": [
    "k = 1\n",
    "model3 = KMeans(n_clusters=k, init='k-means++', max_iter=100, n_init=1)\n",
    "model3.fit(reviews)\n",
    "\n",
    "r3 = rand_score(df['category'][:500],model3.labels_[:500])"
   ]
  },
  {
   "cell_type": "code",
   "execution_count": 12,
   "metadata": {},
   "outputs": [
    {
     "data": {
      "text/plain": [
       "0.16626052104208416"
      ]
     },
     "execution_count": 12,
     "metadata": {},
     "output_type": "execute_result"
    }
   ],
   "source": [
    "r3"
   ]
  },
  {
   "cell_type": "code",
   "execution_count": 13,
   "metadata": {},
   "outputs": [],
   "source": [
    "k = 3\n",
    "model4 = KMeans(n_clusters=k, init='k-means++', max_iter=100, n_init=2)\n",
    "model4.fit(reviews)\n",
    "\n",
    "r4 = rand_score(df['category'][:500],model4.labels_[:500])"
   ]
  },
  {
   "cell_type": "code",
   "execution_count": 14,
   "metadata": {},
   "outputs": [
    {
     "data": {
      "text/plain": [
       "0.6892985971943888"
      ]
     },
     "execution_count": 14,
     "metadata": {},
     "output_type": "execute_result"
    }
   ],
   "source": [
    "r4"
   ]
  },
  {
   "cell_type": "code",
   "execution_count": 15,
   "metadata": {},
   "outputs": [],
   "source": [
    "k = 5\n",
    "model5 = KMeans(n_clusters=k, init='k-means++', max_iter=100, n_init=2)\n",
    "model5.fit(reviews)\n",
    "\n",
    "r5 = rand_score(df['category'][:500],model5.labels_[:500])"
   ]
  },
  {
   "cell_type": "code",
   "execution_count": 16,
   "metadata": {},
   "outputs": [
    {
     "data": {
      "text/plain": [
       "0.6623567134268538"
      ]
     },
     "execution_count": 16,
     "metadata": {},
     "output_type": "execute_result"
    }
   ],
   "source": [
    "r5"
   ]
  },
  {
   "cell_type": "code",
   "execution_count": 17,
   "metadata": {},
   "outputs": [],
   "source": [
    "k = 7\n",
    "model6 = KMeans(n_clusters=k, init='k-means++', max_iter=100, n_init=2)\n",
    "model6.fit(reviews)\n",
    "\n",
    "r6 = rand_score(df['category'][:500],model6.labels_[:500])"
   ]
  },
  {
   "cell_type": "code",
   "execution_count": 18,
   "metadata": {},
   "outputs": [
    {
     "data": {
      "text/plain": [
       "0.6732585170340681"
      ]
     },
     "execution_count": 18,
     "metadata": {},
     "output_type": "execute_result"
    }
   ],
   "source": [
    "r6"
   ]
  },
  {
   "cell_type": "markdown",
   "metadata": {},
   "source": [
    "As per the rand indicies of the the different clustering models, we increase the number of clusters the rand index increases. The model with k=7 has the highest rand index which makes sense as the original data has 6 clusters approximately."
   ]
  },
  {
   "cell_type": "code",
   "execution_count": 19,
   "metadata": {},
   "outputs": [
    {
     "data": {
      "text/plain": [
       "array(['books', 'camera', 'dvd', 'health', 'music', 'software'],\n",
       "      dtype=object)"
      ]
     },
     "execution_count": 19,
     "metadata": {},
     "output_type": "execute_result"
    }
   ],
   "source": [
    "np.unique(df['category'][:])"
   ]
  },
  {
   "cell_type": "markdown",
   "metadata": {},
   "source": [
    "## Topic modelling data set"
   ]
  },
  {
   "cell_type": "markdown",
   "metadata": {},
   "source": [
    "The data set for the topic modelling part of this lab is the collection of all [State of the Union](https://en.wikipedia.org/wiki/State_of_the_Union) addresses from the years 1975–2000. These speeches come as a single text file with one sentence per line. The following code cell prints the first 5 lines from the data file:"
   ]
  },
  {
   "cell_type": "code",
   "execution_count": 20,
   "metadata": {},
   "outputs": [
    {
     "name": "stdout",
     "output_type": "stream",
     "text": [
      "mr speaker mr vice president members of the 94th congress and distinguished guests\n",
      "twenty six years ago a freshman congressman a young fellow with lots of idealism who was out to change the world stood before sam rayburn in the well of the house and solemnly swore to the same oath that all of you took yesterday an unforgettable experience and i congratulate you all\n",
      "two days later that same freshman stood at the back of this great chamber over there someplace as president truman all charged up by his single handed election victory reported as the constitution requires on the state of the union\n",
      "when the bipartisan applause stopped president truman said i am happy to report to this 81st congress that the state of the union is good our nation is better able than ever before to meet the needs of the american people and to give them their fair chance in the pursuit of happiness it is foremost among the nations of the world in the search for peace\n",
      "today that freshman member from michigan stands where mr truman stood and i must say to you that the state of the union is not good\n",
      "millions of americans are out of work\n"
     ]
    }
   ],
   "source": [
    "with open('sotu_1975_2000.txt') as source:\n",
    "    for i, line in enumerate(source):\n",
    "        print(line.rstrip())\n",
    "        if i >= 5:\n",
    "            break"
   ]
  },
  {
   "cell_type": "markdown",
   "metadata": {},
   "source": [
    "Take a few minutes to think about what topics you would expect in this data set."
   ]
  },
  {
   "cell_type": "markdown",
   "metadata": {},
   "source": [
    "The tpoic of this passage could be about American Election Victory,Oath taken to change the world,freshman member, Congress,People of America."
   ]
  },
  {
   "cell_type": "markdown",
   "metadata": {},
   "source": [
    "## Problem 4: Train a topic model"
   ]
  },
  {
   "cell_type": "markdown",
   "metadata": {},
   "source": [
    "Your first task on the topic modelling data is to train an LDA model. For this task you will be using [spaCy](https://spacy.io/) and the [gensim](https://radimrehurek.com/gensim/) topic modelling library.\n",
    "\n",
    "Start by preprocessing the data using spaCy. Given that the data set for this problem is rather small, you do not have to exclude any components from the standard pipeline. Filter out stop words, non-alphabetic tokens, and tokens less than 3 characters in length. Store the documents as a nested list where the first level of nesting corresponds to the sentences and the second level corresponds to the tokens in each sentence."
   ]
  },
  {
   "cell_type": "markdown",
   "metadata": {},
   "source": [
    "Test your preprocessing by running the following cell:"
   ]
  },
  {
   "cell_type": "code",
   "execution_count": 21,
   "metadata": {},
   "outputs": [],
   "source": [
    "import spacy\n",
    "nlp = spacy.load('en_core_web_sm',disable=[\"tagger\", \"parser\"])\n",
    "\n",
    "with open('sotu_1975_2000.txt') as source:\n",
    "    documents = [[word for word in line.split() if nlp.vocab[word].is_stop == False # Removing stop word\n",
    "                  if len(word)>=3 # Keeping words having length > 3 \n",
    "                  if nlp.vocab[word].is_alpha == True] # Keeping the words which are only alphabets\n",
    "                 for line in source]"
   ]
  },
  {
   "cell_type": "code",
   "execution_count": 22,
   "metadata": {},
   "outputs": [
    {
     "data": {
      "text/plain": [
       "'reduce oil imports million barrels day end year million barrels day end'"
      ]
     },
     "execution_count": 22,
     "metadata": {},
     "output_type": "execute_result"
    }
   ],
   "source": [
    "' '.join(documents[42])"
   ]
  },
  {
   "cell_type": "markdown",
   "metadata": {},
   "source": [
    "You should get the following output:"
   ]
  },
  {
   "cell_type": "raw",
   "metadata": {},
   "source": [
    "'reduce oil imports million barrels day end year million barrels day end'"
   ]
  },
  {
   "cell_type": "markdown",
   "metadata": {},
   "source": [
    "Once you have the list of documents, skim the section [Pre-process and vectorize the documents](https://radimrehurek.com/gensim/auto_examples/tutorials/run_lda.html#pre-process-and-vectorize-the-documents) of the gensim documentation to learn how to create the dictionary and the vectorized corpus representation required by gensim. (Note that you cannot use the standard scikit-learn pipeline in this case.) Then, write code to train an [LdaModel](https://radimrehurek.com/gensim/models/ldamodel.html) for $k=10$ topics, and using default values for all other parameters."
   ]
  },
  {
   "cell_type": "code",
   "execution_count": 23,
   "metadata": {},
   "outputs": [],
   "source": [
    "from gensim.models import Phrases\n",
    "from gensim.corpora import Dictionary\n",
    "            \n",
    "# Create a dictionary representation of the documents.\n",
    "dictionary = Dictionary(documents)\n",
    "\n",
    "# Bag-of-words representation of the documents.\n",
    "corpus = [dictionary.doc2bow(doc) for doc in documents]"
   ]
  },
  {
   "cell_type": "code",
   "execution_count": 24,
   "metadata": {},
   "outputs": [
    {
     "name": "stdout",
     "output_type": "stream",
     "text": [
      "Number of unique tokens: 8496\n",
      "Number of documents: 2898\n"
     ]
    }
   ],
   "source": [
    "print('Number of unique tokens: %d' % len(dictionary))\n",
    "print('Number of documents: %d' % len(corpus))"
   ]
  },
  {
   "cell_type": "code",
   "execution_count": 43,
   "metadata": {},
   "outputs": [],
   "source": [
    "# Train LDA model.\n",
    "from gensim.models import LdaModel\n",
    "\n",
    "# Make a index to word dictionary.\n",
    "temp = dictionary[0]  # This is only to \"load\" the dictionary.\n",
    "\n",
    "model = LdaModel(\n",
    "    corpus=corpus,\n",
    "    id2word=dictionary.id2token,\n",
    "    iterations=iterations,\n",
    "    num_topics=10,\n",
    "    eval_every= None\n",
    ")"
   ]
  },
  {
   "cell_type": "markdown",
   "metadata": {},
   "source": [
    "Once you have a trained model, run the following cell to print the topics:"
   ]
  },
  {
   "cell_type": "code",
   "execution_count": 44,
   "metadata": {
    "scrolled": false
   },
   "outputs": [
    {
     "data": {
      "text/plain": [
       "[(0,\n",
       "  '0.024*\"tax\" + 0.023*\"budget\" + 0.017*\"year\" + 0.011*\"years\" + 0.010*\"cut\" + 0.010*\"spending\" + 0.010*\"billion\" + 0.009*\"federal\" + 0.009*\"congress\" + 0.009*\"people\"'),\n",
       " (1,\n",
       "  '0.012*\"year\" + 0.011*\"america\" + 0.011*\"people\" + 0.010*\"trade\" + 0.009*\"americans\" + 0.009*\"children\" + 0.008*\"new\" + 0.008*\"government\" + 0.008*\"ask\" + 0.007*\"way\"'),\n",
       " (2,\n",
       "  '0.024*\"world\" + 0.017*\"peace\" + 0.016*\"america\" + 0.011*\"nuclear\" + 0.011*\"security\" + 0.010*\"freedom\" + 0.010*\"soviet\" + 0.009*\"nations\" + 0.008*\"forces\" + 0.007*\"military\"'),\n",
       " (3,\n",
       "  '0.011*\"country\" + 0.011*\"world\" + 0.009*\"let\" + 0.008*\"americans\" + 0.006*\"home\" + 0.006*\"africa\" + 0.006*\"people\" + 0.006*\"year\" + 0.005*\"proud\" + 0.005*\"tonight\"'),\n",
       " (4,\n",
       "  '0.011*\"private\" + 0.011*\"government\" + 0.008*\"work\" + 0.008*\"new\" + 0.007*\"industry\" + 0.007*\"welfare\" + 0.007*\"economy\" + 0.007*\"federal\" + 0.007*\"program\" + 0.007*\"sector\"'),\n",
       " (5,\n",
       "  '0.014*\"policy\" + 0.014*\"federal\" + 0.012*\"administration\" + 0.010*\"congress\" + 0.010*\"government\" + 0.008*\"new\" + 0.008*\"programs\" + 0.006*\"foreign\" + 0.006*\"state\" + 0.006*\"areas\"'),\n",
       " (6,\n",
       "  '0.019*\"america\" + 0.015*\"years\" + 0.014*\"new\" + 0.011*\"people\" + 0.009*\"community\" + 0.009*\"american\" + 0.008*\"crime\" + 0.007*\"work\" + 0.007*\"century\" + 0.007*\"nation\"'),\n",
       " (7,\n",
       "  '0.019*\"children\" + 0.016*\"people\" + 0.014*\"work\" + 0.012*\"schools\" + 0.011*\"americans\" + 0.010*\"new\" + 0.010*\"help\" + 0.010*\"school\" + 0.009*\"parents\" + 0.009*\"government\"'),\n",
       " (8,\n",
       "  '0.026*\"health\" + 0.023*\"security\" + 0.019*\"social\" + 0.016*\"care\" + 0.011*\"system\" + 0.010*\"welfare\" + 0.009*\"medicare\" + 0.009*\"insurance\" + 0.009*\"reform\" + 0.008*\"national\"'),\n",
       " (9,\n",
       "  '0.009*\"house\" + 0.009*\"years\" + 0.008*\"congress\" + 0.007*\"president\" + 0.006*\"year\" + 0.006*\"national\" + 0.006*\"know\" + 0.005*\"new\" + 0.005*\"said\" + 0.005*\"time\"')]"
      ]
     },
     "execution_count": 44,
     "metadata": {},
     "output_type": "execute_result"
    }
   ],
   "source": [
    "model.print_topics()"
   ]
  },
  {
   "cell_type": "markdown",
   "metadata": {},
   "source": [
    "Inspect the topics. Can you &lsquo;label&rsquo; each topic with a short description of what it is about? Do the topics match your expectations? Summarize your discussion in a short text."
   ]
  },
  {
   "cell_type": "markdown",
   "metadata": {},
   "source": [
    "Each time the code was run, different topics came up but we had already completed writing the topics for the first time we ran the code. Hence we have inserted the image."
   ]
  },
  {
   "cell_type": "markdown",
   "metadata": {},
   "source": [
    "![title](Topics.png)"
   ]
  },
  {
   "cell_type": "markdown",
   "metadata": {},
   "source": [
    "The labels for the topics for the above documents is as below.\n",
    "1)Parents of school going children in America.\n",
    "2)Awareness of Crimes & Voilence and taking safety measures.\n",
    "3)Welfare & Social security reforms by government and federal system.\n",
    "4)Security,economy millitary forces,world peace by Soviet and United fores.\n",
    "5)Yearly federal government budget for care,taxes for people's benifit.\n",
    "6)Vice-president, congress members and speaker about illegal immigrants.\n",
    "7)New Nuclear weapon trade in space by America.\n",
    "8)People of America in American war and freedom.\n",
    "9)New support for congress challenge to work on gun using American people.\n",
    "10)Poilicies on energy, health, insurance ,economy,jobs by Congress."
   ]
  },
  {
   "cell_type": "markdown",
   "metadata": {},
   "source": [
    "## Problem 5: Monitor a topic model for convergence"
   ]
  },
  {
   "cell_type": "markdown",
   "metadata": {},
   "source": [
    "When learning an LDA model, it is important to make sure that the training algorithm has converged to a stable posterior distribution. One way to do so is to plot, after each training epochs (or &lsquo;pass&rsquo;, in gensim parlance) the log likelihood of the training data under the posterior. Your last task in this lab is to create such a plot and, based on this, to suggest an appropriate number of epochs.\n",
    "\n",
    "To collect information about the posterior likelihood after each pass, we need to enable the logging facilities of gensim. Once this is done, gensim will add various diagnostics to a log file `gensim.log`."
   ]
  },
  {
   "cell_type": "code",
   "execution_count": 45,
   "metadata": {},
   "outputs": [],
   "source": [
    "import logging\n",
    "\n",
    "logging.basicConfig(filename='gensim.log', format='%(asctime)s:%(levelname)s:%(message)s', level=logging.INFO)"
   ]
  },
  {
   "cell_type": "markdown",
   "metadata": {},
   "source": [
    "The following function will parse the generated logfile and return the list of log likelihoods."
   ]
  },
  {
   "cell_type": "code",
   "execution_count": 46,
   "metadata": {},
   "outputs": [],
   "source": [
    "import re\n",
    "\n",
    "def parse_logfile():\n",
    "    matcher = re.compile('(-*\\d+\\.\\d+) per-word .* (\\d+\\.\\d+) perplexity')\n",
    "    likelihoods = []\n",
    "    with open('gensim.log') as source:\n",
    "        for line in source:\n",
    "            match = matcher.search(line)\n",
    "            if match:\n",
    "                likelihoods.append(float(match.group(1)))\n",
    "    return likelihoods"
   ]
  },
  {
   "cell_type": "markdown",
   "metadata": {},
   "source": [
    "Your task now is to re-train your LDA model for 50&nbsp;passes, retrieve the list of log likelihoods, and create a plot from this data."
   ]
  },
  {
   "cell_type": "code",
   "execution_count": 47,
   "metadata": {},
   "outputs": [],
   "source": [
    "model1 = LdaModel(\n",
    "    corpus=corpus,\n",
    "    id2word=dictionary.id2token,\n",
    "    num_topics=num_topics,\n",
    "    passes=50\n",
    ")"
   ]
  },
  {
   "cell_type": "code",
   "execution_count": 35,
   "metadata": {},
   "outputs": [],
   "source": [
    "lik = parse_logfile()"
   ]
  },
  {
   "cell_type": "code",
   "execution_count": 36,
   "metadata": {},
   "outputs": [
    {
     "data": {
      "image/png": "[encoded data removed]",
      "text/plain": [
       "<Figure size 432x288 with 1 Axes>"
      ]
     },
     "metadata": {
      "needs_background": "light"
     },
     "output_type": "display_data"
    }
   ],
   "source": [
    "plt.plot(lik)\n",
    "plt.show()"
   ]
  },
  {
   "cell_type": "markdown",
   "metadata": {},
   "source": [
    "How do you interpret your plot? Based on the plot, what would be a reasonable choice for the number of passes? Retrain your LDA model with that number and re-inspect the topics it finds. Do you consider the new topics to be &lsquo;better&rsquo; than the ones that you got from the 1-pass model in Problem&nbsp;5?"
   ]
  },
  {
   "cell_type": "markdown",
   "metadata": {},
   "source": [
    "From the plot above, we see that the likelihood is highest at 50 passes but there it reaches it almost at 40 passes. So 40 passes would be optimal."
   ]
  },
  {
   "cell_type": "code",
   "execution_count": 48,
   "metadata": {},
   "outputs": [
    {
     "data": {
      "text/plain": [
       "[(0,\n",
       "  '0.017*\"america\" + 0.011*\"soviet\" + 0.010*\"crime\" + 0.008*\"peace\" + 0.007*\"east\" + 0.007*\"people\" + 0.006*\"forces\" + 0.006*\"europe\" + 0.006*\"americans\" + 0.006*\"world\"'),\n",
       " (1,\n",
       "  '0.017*\"security\" + 0.016*\"social\" + 0.013*\"new\" + 0.010*\"congress\" + 0.009*\"need\" + 0.009*\"right\" + 0.008*\"bipartisan\" + 0.008*\"ask\" + 0.007*\"legislation\" + 0.007*\"year\"'),\n",
       " (2,\n",
       "  '0.023*\"work\" + 0.023*\"care\" + 0.022*\"health\" + 0.021*\"people\" + 0.020*\"children\" + 0.018*\"welfare\" + 0.013*\"child\" + 0.011*\"families\" + 0.008*\"insurance\" + 0.007*\"family\"'),\n",
       " (3,\n",
       "  '0.010*\"congress\" + 0.009*\"government\" + 0.009*\"nuclear\" + 0.008*\"federal\" + 0.008*\"thank\" + 0.008*\"laws\" + 0.007*\"reform\" + 0.006*\"women\" + 0.006*\"year\" + 0.006*\"american\"'),\n",
       " (4,\n",
       "  '0.019*\"energy\" + 0.011*\"program\" + 0.011*\"new\" + 0.010*\"policy\" + 0.010*\"development\" + 0.009*\"economic\" + 0.009*\"administration\" + 0.008*\"oil\" + 0.008*\"states\" + 0.007*\"congress\"'),\n",
       " (5,\n",
       "  '0.018*\"budget\" + 0.017*\"year\" + 0.015*\"tax\" + 0.011*\"federal\" + 0.010*\"children\" + 0.009*\"years\" + 0.009*\"new\" + 0.009*\"help\" + 0.009*\"government\" + 0.009*\"cut\"'),\n",
       " (6,\n",
       "  '0.026*\"world\" + 0.021*\"america\" + 0.013*\"peace\" + 0.011*\"freedom\" + 0.010*\"future\" + 0.009*\"nation\" + 0.009*\"new\" + 0.008*\"american\" + 0.008*\"strong\" + 0.007*\"people\"'),\n",
       " (7,\n",
       "  '0.014*\"community\" + 0.010*\"america\" + 0.010*\"know\" + 0.009*\"people\" + 0.008*\"work\" + 0.008*\"let\" + 0.007*\"opportunity\" + 0.007*\"year\" + 0.007*\"help\" + 0.007*\"new\"'),\n",
       " (8,\n",
       "  '0.021*\"new\" + 0.016*\"america\" + 0.015*\"trade\" + 0.014*\"economy\" + 0.014*\"world\" + 0.011*\"years\" + 0.009*\"americans\" + 0.009*\"american\" + 0.009*\"jobs\" + 0.009*\"president\"'),\n",
       " (9,\n",
       "  '0.016*\"years\" + 0.016*\"people\" + 0.013*\"union\" + 0.011*\"state\" + 0.010*\"president\" + 0.010*\"world\" + 0.009*\"tonight\" + 0.008*\"nation\" + 0.007*\"country\" + 0.007*\"year\"')]"
      ]
     },
     "execution_count": 48,
     "metadata": {},
     "output_type": "execute_result"
    }
   ],
   "source": [
    "model2 = LdaModel(\n",
    "    corpus=corpus,\n",
    "    id2word=dictionary.id2token,\n",
    "    num_topics=num_topics,\n",
    "    passes=40\n",
    ")\n",
    "\n",
    "model2.print_topics()"
   ]
  },
  {
   "cell_type": "markdown",
   "metadata": {},
   "source": [
    "The topics in for each document make more sense and are more correlated than the previous output."
   ]
  },
  {
   "cell_type": "markdown",
   "metadata": {},
   "source": [
    "<div class=\"alert alert-info\">\n",
    "    Please read the section ‘General information’ on the ‘Labs’ page of the course website before submitting this notebook!\n",
    "</div>"
   ]
  }
 ],
 "metadata": {
  "kernelspec": {
   "display_name": "Python 3",
   "language": "python",
   "name": "python3"
  },
  "language_info": {
   "codemirror_mode": {
    "name": "ipython",
    "version": 3
   },
   "file_extension": ".py",
   "mimetype": "text/x-python",
   "name": "python",
   "nbconvert_exporter": "python",
   "pygments_lexer": "ipython3",
   "version": "3.7.4"
  }
 },
 "nbformat": 4,
 "nbformat_minor": 2
}
