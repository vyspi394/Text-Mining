{
  "nbformat": 4,
  "nbformat_minor": 0,
  "metadata": {
    "kernelspec": {
      "display_name": "Python 3",
      "language": "python",
      "name": "python3"
    },
    "language_info": {
      "codemirror_mode": {
        "name": "ipython",
        "version": 3
      },
      "file_extension": ".py",
      "mimetype": "text/x-python",
      "name": "python",
      "nbconvert_exporter": "python",
      "pygments_lexer": "ipython3",
      "version": "3.7.6"
    },
    "colab": {
      "name": "TM-L4_Final.ipynb",
      "provenance": [],
      "collapsed_sections": [
        "cLN6DcivSQ6T"
      ]
    }
  },
  "cells": [
    {
      "cell_type": "markdown",
      "metadata": {
        "id": "Id7_88ZgSQ57"
      },
      "source": [
        "# L4: Word embeddings"
      ]
    },
    {
      "cell_type": "markdown",
      "metadata": {
        "id": "vhMfQ6QjSQ6J"
      },
      "source": [
        "In this lab you will explore word embeddings. A **word embedding** is a mapping of words to points in a vector space such that nearby words (points) are similar in terms of their distributional properties. You will use word embedding to find similar words, and evaluate their usefulness in an inference task.\n",
        "\n",
        "You will use the word vectors that come with [spaCy](http://spacy.io). Note that you will need the &lsquo;large&rsquo; English language model; the &lsquo;small&rsquo; model that you used in previous labs does not include proper word vectors."
      ]
    },
    {
      "cell_type": "code",
      "metadata": {
        "colab": {
          "base_uri": "https://localhost:8080/"
        },
        "id": "b2aoGJcnS_S-",
        "outputId": "fddb5cf6-9ad9-42e1-dace-0d6d205de68c"
      },
      "source": [
        "! python -m spacy download en_core_web_lg "
      ],
      "execution_count": 1,
      "outputs": [
        {
          "output_type": "stream",
          "text": [
            "Collecting en_core_web_lg==2.2.5\n",
            "\u001b[?25l  Downloading https://github.com/explosion/spacy-models/releases/download/en_core_web_lg-2.2.5/en_core_web_lg-2.2.5.tar.gz (827.9MB)\n",
            "\u001b[K     |████████████████████████████████| 827.9MB 1.4MB/s \n",
            "\u001b[?25hRequirement already satisfied: spacy>=2.2.2 in /usr/local/lib/python3.6/dist-packages (from en_core_web_lg==2.2.5) (2.2.4)\n",
            "Requirement already satisfied: preshed<3.1.0,>=3.0.2 in /usr/local/lib/python3.6/dist-packages (from spacy>=2.2.2->en_core_web_lg==2.2.5) (3.0.5)\n",
            "Requirement already satisfied: blis<0.5.0,>=0.4.0 in /usr/local/lib/python3.6/dist-packages (from spacy>=2.2.2->en_core_web_lg==2.2.5) (0.4.1)\n",
            "Requirement already satisfied: srsly<1.1.0,>=1.0.2 in /usr/local/lib/python3.6/dist-packages (from spacy>=2.2.2->en_core_web_lg==2.2.5) (1.0.5)\n",
            "Requirement already satisfied: wasabi<1.1.0,>=0.4.0 in /usr/local/lib/python3.6/dist-packages (from spacy>=2.2.2->en_core_web_lg==2.2.5) (0.8.0)\n",
            "Requirement already satisfied: tqdm<5.0.0,>=4.38.0 in /usr/local/lib/python3.6/dist-packages (from spacy>=2.2.2->en_core_web_lg==2.2.5) (4.41.1)\n",
            "Requirement already satisfied: setuptools in /usr/local/lib/python3.6/dist-packages (from spacy>=2.2.2->en_core_web_lg==2.2.5) (51.1.1)\n",
            "Requirement already satisfied: catalogue<1.1.0,>=0.0.7 in /usr/local/lib/python3.6/dist-packages (from spacy>=2.2.2->en_core_web_lg==2.2.5) (1.0.0)\n",
            "Requirement already satisfied: requests<3.0.0,>=2.13.0 in /usr/local/lib/python3.6/dist-packages (from spacy>=2.2.2->en_core_web_lg==2.2.5) (2.23.0)\n",
            "Requirement already satisfied: cymem<2.1.0,>=2.0.2 in /usr/local/lib/python3.6/dist-packages (from spacy>=2.2.2->en_core_web_lg==2.2.5) (2.0.5)\n",
            "Requirement already satisfied: murmurhash<1.1.0,>=0.28.0 in /usr/local/lib/python3.6/dist-packages (from spacy>=2.2.2->en_core_web_lg==2.2.5) (1.0.5)\n",
            "Requirement already satisfied: plac<1.2.0,>=0.9.6 in /usr/local/lib/python3.6/dist-packages (from spacy>=2.2.2->en_core_web_lg==2.2.5) (1.1.3)\n",
            "Requirement already satisfied: numpy>=1.15.0 in /usr/local/lib/python3.6/dist-packages (from spacy>=2.2.2->en_core_web_lg==2.2.5) (1.19.5)\n",
            "Requirement already satisfied: thinc==7.4.0 in /usr/local/lib/python3.6/dist-packages (from spacy>=2.2.2->en_core_web_lg==2.2.5) (7.4.0)\n",
            "Requirement already satisfied: importlib-metadata>=0.20; python_version < \"3.8\" in /usr/local/lib/python3.6/dist-packages (from catalogue<1.1.0,>=0.0.7->spacy>=2.2.2->en_core_web_lg==2.2.5) (3.3.0)\n",
            "Requirement already satisfied: chardet<4,>=3.0.2 in /usr/local/lib/python3.6/dist-packages (from requests<3.0.0,>=2.13.0->spacy>=2.2.2->en_core_web_lg==2.2.5) (3.0.4)\n",
            "Requirement already satisfied: urllib3!=1.25.0,!=1.25.1,<1.26,>=1.21.1 in /usr/local/lib/python3.6/dist-packages (from requests<3.0.0,>=2.13.0->spacy>=2.2.2->en_core_web_lg==2.2.5) (1.24.3)\n",
            "Requirement already satisfied: idna<3,>=2.5 in /usr/local/lib/python3.6/dist-packages (from requests<3.0.0,>=2.13.0->spacy>=2.2.2->en_core_web_lg==2.2.5) (2.10)\n",
            "Requirement already satisfied: certifi>=2017.4.17 in /usr/local/lib/python3.6/dist-packages (from requests<3.0.0,>=2.13.0->spacy>=2.2.2->en_core_web_lg==2.2.5) (2020.12.5)\n",
            "Requirement already satisfied: zipp>=0.5 in /usr/local/lib/python3.6/dist-packages (from importlib-metadata>=0.20; python_version < \"3.8\"->catalogue<1.1.0,>=0.0.7->spacy>=2.2.2->en_core_web_lg==2.2.5) (3.4.0)\n",
            "Requirement already satisfied: typing-extensions>=3.6.4; python_version < \"3.8\" in /usr/local/lib/python3.6/dist-packages (from importlib-metadata>=0.20; python_version < \"3.8\"->catalogue<1.1.0,>=0.0.7->spacy>=2.2.2->en_core_web_lg==2.2.5) (3.7.4.3)\n",
            "Building wheels for collected packages: en-core-web-lg\n",
            "  Building wheel for en-core-web-lg (setup.py) ... \u001b[?25l\u001b[?25hdone\n",
            "  Created wheel for en-core-web-lg: filename=en_core_web_lg-2.2.5-cp36-none-any.whl size=829180945 sha256=e976acdbdcade882f0dc8931e7a8aa923ee793481b765a3628ddaf3fa67d154a\n",
            "  Stored in directory: /tmp/pip-ephem-wheel-cache-wzanls5k/wheels/2a/c1/a6/fc7a877b1efca9bc6a089d6f506f16d3868408f9ff89f8dbfc\n",
            "Successfully built en-core-web-lg\n",
            "Installing collected packages: en-core-web-lg\n",
            "Successfully installed en-core-web-lg-2.2.5\n",
            "\u001b[38;5;2m✔ Download and installation successful\u001b[0m\n",
            "You can now load the model via spacy.load('en_core_web_lg')\n"
          ],
          "name": "stdout"
        }
      ]
    },
    {
      "cell_type": "code",
      "metadata": {
        "id": "05BanDIiTA6M"
      },
      "source": [
        "import en_core_web_lg\r\n",
        "nlp = en_core_web_lg.load()"
      ],
      "execution_count": 2,
      "outputs": []
    },
    {
      "cell_type": "code",
      "metadata": {
        "colab": {
          "base_uri": "https://localhost:8080/",
          "height": 35
        },
        "id": "t-UMOw5CSQ6K",
        "outputId": "86d4239e-576c-4549-f5ee-03d55025297c"
      },
      "source": [
        "'''import spacy\n",
        "\n",
        "nlp = spacy.load('en_core_web_lg')'''"
      ],
      "execution_count": 3,
      "outputs": [
        {
          "output_type": "execute_result",
          "data": {
            "application/vnd.google.colaboratory.intrinsic+json": {
              "type": "string"
            },
            "text/plain": [
              "\"import spacy\\n\\nnlp = spacy.load('en_core_web_lg')\""
            ]
          },
          "metadata": {
            "tags": []
          },
          "execution_count": 3
        }
      ]
    },
    {
      "cell_type": "markdown",
      "metadata": {
        "id": "gqufyHiqSQ6M"
      },
      "source": [
        "Every word in the model&rsquo;s vocabulary comes with a 300-dimensional vector, represented as a NumPy array. The following code cell shows how to access the vector for the word *cheese*:"
      ]
    },
    {
      "cell_type": "code",
      "metadata": {
        "colab": {
          "base_uri": "https://localhost:8080/"
        },
        "id": "sf9EYd4KSQ6M",
        "outputId": "4183e078-cd28-4355-b28e-0dc7eeb2cb1e"
      },
      "source": [
        "nlp.vocab['cheese'].vector"
      ],
      "execution_count": 4,
      "outputs": [
        {
          "output_type": "execute_result",
          "data": {
            "text/plain": [
              "array([-5.5252e-01,  1.8894e-01,  6.8737e-01, -1.9789e-01,  7.0575e-02,\n",
              "        1.0075e+00,  5.1789e-02, -1.5603e-01,  3.1941e-01,  1.1702e+00,\n",
              "       -4.7248e-01,  4.2867e-01, -4.2025e-01,  2.4803e-01,  6.8194e-01,\n",
              "       -6.7488e-01,  9.2401e-02,  1.3089e+00, -3.6278e-02,  2.0098e-01,\n",
              "        7.6005e-01, -6.6718e-02, -7.7794e-02,  2.3844e-01, -2.4351e-01,\n",
              "       -5.4164e-01, -3.3540e-01,  2.9805e-01,  3.5269e-01, -8.0594e-01,\n",
              "       -4.3611e-01,  6.1535e-01,  3.4212e-01, -3.3603e-01,  3.3282e-01,\n",
              "        3.8065e-01,  5.7427e-02,  9.9918e-02,  1.2525e-01,  1.1039e+00,\n",
              "        3.6678e-02,  3.0490e-01, -1.4942e-01,  3.2912e-01,  2.3300e-01,\n",
              "        4.3395e-01,  1.5666e-01,  2.2778e-01, -2.5830e-02,  2.4334e-01,\n",
              "       -5.8136e-02, -1.3486e-01,  2.4521e-01, -3.3459e-01,  4.2839e-01,\n",
              "       -4.8181e-01,  1.3403e-01,  2.6049e-01,  8.9933e-02, -9.3770e-02,\n",
              "        3.7672e-01, -2.9558e-02,  4.3841e-01,  6.1212e-01, -2.5720e-01,\n",
              "       -7.8506e-01,  2.3880e-01,  1.3399e-01, -7.9315e-02,  7.0582e-01,\n",
              "        3.9968e-01,  6.7779e-01, -2.0474e-03,  1.9785e-02, -4.2059e-01,\n",
              "       -5.3858e-01, -5.2155e-02,  1.7252e-01,  2.7547e-01, -4.4482e-01,\n",
              "        2.3595e-01, -2.3445e-01,  3.0103e-01, -5.5096e-01, -3.1159e-02,\n",
              "       -3.4433e-01,  1.2386e+00,  1.0317e+00, -2.2728e-01, -9.5207e-03,\n",
              "       -2.5432e-01, -2.9792e-01,  2.5934e-01, -1.0421e-01, -3.3876e-01,\n",
              "        4.2470e-01,  5.8335e-04,  1.3093e-01,  2.8786e-01,  2.3474e-01,\n",
              "        2.5905e-02, -6.4359e-01,  6.1330e-02,  6.3842e-01,  1.4705e-01,\n",
              "       -6.1594e-01,  2.5097e-01, -4.4872e-01,  8.6825e-01,  9.9555e-02,\n",
              "       -4.4734e-02, -7.4239e-01, -5.9147e-01, -5.4929e-01,  3.8108e-01,\n",
              "        5.5177e-02, -1.0487e-01, -1.2838e-01,  6.0521e-03,  2.8743e-01,\n",
              "        2.1592e-01,  7.2871e-02, -3.1644e-01, -4.3321e-01,  1.8682e-01,\n",
              "        6.7274e-02,  2.8115e-01, -4.6222e-02, -9.6803e-02,  5.6091e-01,\n",
              "       -6.7762e-01, -1.6645e-01,  1.5553e-01,  5.2301e-01, -3.0058e-01,\n",
              "       -3.7291e-01,  8.7895e-02, -1.7963e-01, -4.4193e-01, -4.4607e-01,\n",
              "       -2.4122e+00,  3.3738e-01,  6.2416e-01,  4.2787e-01, -2.5386e-01,\n",
              "       -6.1683e-01, -7.0097e-01,  4.9303e-01,  3.6916e-01, -9.7499e-02,\n",
              "        6.1411e-01, -4.7572e-03,  4.3916e-01, -2.1551e-01, -5.6745e-01,\n",
              "       -4.0278e-01,  2.9459e-01, -3.0850e-01,  1.0103e-01,  7.9741e-02,\n",
              "       -6.3811e-01,  2.4781e-01, -4.4546e-01,  1.0828e-01, -2.3624e-01,\n",
              "       -5.0838e-01, -1.7001e-01, -7.8735e-01,  3.4073e-01, -3.1830e-01,\n",
              "        4.5286e-01, -9.5118e-02,  2.0772e-01, -8.0183e-02, -3.7982e-01,\n",
              "       -4.9949e-01,  4.0759e-02, -3.7724e-01, -8.9705e-02, -6.8187e-01,\n",
              "        2.2106e-01, -3.9931e-01,  3.2329e-01, -3.6180e-01, -7.2093e-01,\n",
              "       -6.3404e-01,  4.3125e-01, -4.9743e-01, -1.7395e-01, -3.8779e-01,\n",
              "       -3.2556e-01,  1.4423e-01, -8.3401e-02, -2.2994e-01,  2.7793e-01,\n",
              "        4.9112e-01,  6.4511e-01, -7.8945e-02,  1.1171e-01,  3.7264e-01,\n",
              "        1.3070e-01, -6.1607e-02, -4.3501e-01,  2.8999e-02,  5.6224e-01,\n",
              "        5.8012e-02,  4.7078e-02,  4.2770e-01,  7.3245e-01, -2.1150e-02,\n",
              "        1.1988e-01,  7.8823e-02, -1.9106e-01,  3.5278e-02, -3.1102e-01,\n",
              "        1.3209e-01, -2.8606e-01, -1.5649e-01, -6.4339e-01,  4.4599e-01,\n",
              "       -3.0912e-01,  4.4520e-01, -3.6774e-01,  2.7327e-01,  6.7833e-01,\n",
              "       -8.3830e-02, -4.5120e-01,  1.0754e-01, -4.5908e-01,  1.5095e-01,\n",
              "       -4.5856e-01,  3.4465e-01,  7.8013e-02, -2.8319e-01, -2.8149e-02,\n",
              "        2.4404e-01, -7.1345e-01,  5.2834e-02, -2.8085e-01,  2.5344e-02,\n",
              "        4.2979e-02,  1.5663e-01, -7.4647e-01, -1.1301e+00,  4.4135e-01,\n",
              "        3.1444e-01, -1.0018e-01, -5.3526e-01, -9.0601e-01, -6.4954e-01,\n",
              "        4.2664e-02, -7.9927e-02,  3.2905e-01, -3.0797e-01, -1.9190e-02,\n",
              "        4.2765e-01,  3.1460e-01,  2.9051e-01, -2.7386e-01,  6.8483e-01,\n",
              "        1.9395e-02, -3.2884e-01, -4.8239e-01, -1.5747e-01, -1.6036e-01,\n",
              "        4.9164e-01, -7.0352e-01, -3.5591e-01, -7.4887e-01, -5.2827e-01,\n",
              "        4.4983e-02,  5.9247e-02,  4.6224e-01,  8.9697e-02, -7.5618e-01,\n",
              "        6.3682e-01,  9.0680e-02,  6.8830e-02,  1.8296e-01,  1.0754e-01,\n",
              "        6.7811e-01, -1.4716e-01,  1.7029e-01, -5.2630e-01,  1.9268e-01,\n",
              "        9.3130e-01,  8.0363e-01,  6.1324e-01, -3.0494e-01,  2.0236e-01,\n",
              "        5.8520e-01,  2.6484e-01, -4.5863e-01,  2.1035e-03, -5.6990e-01,\n",
              "       -4.9092e-01,  4.2511e-01, -1.0954e+00,  1.7124e-01,  2.2495e-01],\n",
              "      dtype=float32)"
            ]
          },
          "metadata": {
            "tags": []
          },
          "execution_count": 4
        }
      ]
    },
    {
      "cell_type": "markdown",
      "metadata": {
        "id": "tYMeskdSSQ6O"
      },
      "source": [
        "## Problem 1: Finding similar words"
      ]
    },
    {
      "cell_type": "markdown",
      "metadata": {
        "id": "RwTIBtBASQ6P"
      },
      "source": [
        "Your first task is to use the word embeddings to find similar words. More specifically, we ask you to write a function `most_similar` that takes a vector $x$ and returns a list with the 10 most similar entries in spaCy&rsquo;s vocabulary, with similarity being defined by cosine.\n",
        "\n",
        "**Tip:** spaCy already has a [`most_similar`](https://spacy.io/api/vectors#most_similar) method that you can wrap."
      ]
    },
    {
      "cell_type": "code",
      "metadata": {
        "id": "ONWhMwZiSQ6P"
      },
      "source": [
        "def most_similar(x,n=10):\n",
        "    queries = x.reshape((1,300))\n",
        "    res = nlp.vocab.vectors.most_similar(queries, n=n)\n",
        "    sm = [nlp.vocab.__getitem__(x) for x in res[0][0]]\n",
        "    return sm"
      ],
      "execution_count": 5,
      "outputs": []
    },
    {
      "cell_type": "markdown",
      "metadata": {
        "id": "9CvdvlnSSQ6Q"
      },
      "source": [
        "Test your implementation by running the following code cell, which will print the 10 most similar words for the word *cheese*:"
      ]
    },
    {
      "cell_type": "code",
      "metadata": {
        "colab": {
          "base_uri": "https://localhost:8080/"
        },
        "id": "oigcUZy7SQ6Q",
        "outputId": "ed0c8ce8-237c-4499-fba6-77ae93fd3f53"
      },
      "source": [
        "print(' '.join(w.text for w in most_similar(nlp.vocab['cheese'].vector)))"
      ],
      "execution_count": 6,
      "outputs": [
        {
          "output_type": "stream",
          "text": [
            "Cheese CHEESE cheese Cheddar cheddar CHEDDAR BACON Bacon bacon cheeses\n"
          ],
          "name": "stdout"
        }
      ]
    },
    {
      "cell_type": "markdown",
      "metadata": {
        "id": "WljrEctMSQ6R"
      },
      "source": [
        "You should get the following output:"
      ]
    },
    {
      "cell_type": "markdown",
      "metadata": {
        "id": "ruDkukwYSQ6R"
      },
      "source": [
        "CHEESE cheese Cheese Cheddar cheddar CHEDDAR BACON Bacon bacon cheeses"
      ]
    },
    {
      "cell_type": "markdown",
      "metadata": {
        "id": "na1nVrMLSQ6S"
      },
      "source": [
        "Once you have a working implementation of `most_similar`, use it to think about in what sense the returned words really are &lsquo;similar&rsquo; to the cue word. Try to find examples where the cue word and at least one of the words returned by `most_similar` are in the following semantic relations:\n",
        "\n",
        "1. synonymy (exchangeable meanings)\n",
        "2. antonymy (opposite meanings)\n",
        "3. hyperonymy/hyponymy (more specific/less specific meanings)\n",
        "\n",
        "Document your examples in the code cell below."
      ]
    },
    {
      "cell_type": "code",
      "metadata": {
        "colab": {
          "base_uri": "https://localhost:8080/"
        },
        "id": "Wvfx8-DrSQ6S",
        "outputId": "93ed5de6-d4ac-4169-8ba6-89d28d04f5a2"
      },
      "source": [
        "similar_words1 = [w.text for w in most_similar(nlp.vocab['apple'].vector)]\n",
        "print(similar_words1)"
      ],
      "execution_count": 7,
      "outputs": [
        {
          "output_type": "stream",
          "text": [
            "['APPLE', 'apple', 'Apple', 'apples', 'APPLES', 'Apples', 'Blackberry', 'blackberry', 'BlackBerry', 'BLACKBERRY']\n"
          ],
          "name": "stdout"
        }
      ]
    },
    {
      "cell_type": "code",
      "metadata": {
        "colab": {
          "base_uri": "https://localhost:8080/"
        },
        "id": "puPYTHdVSQ6S",
        "outputId": "7fe9a44d-3e05-4785-d425-0ff2824ebea8"
      },
      "source": [
        "similar_words2 = [w.text for w in most_similar(nlp.vocab['shirt'].vector)]\n",
        "print(similar_words2)"
      ],
      "execution_count": 8,
      "outputs": [
        {
          "output_type": "stream",
          "text": [
            "['Shirt', 'SHIRT', 'shirt', 'Shirts', 'SHIRTS', 'shirts', 't-shirt', 'T-shirt', 'T-SHIRT', 'T-Shirt']\n"
          ],
          "name": "stdout"
        }
      ]
    },
    {
      "cell_type": "markdown",
      "metadata": {
        "id": "qknMZ3TDSQ6T"
      },
      "source": [
        "In the above examples, blackbery which can be considered as an antonym of apple was the most similar to apple after the other words which have exchangeable meaning words. In the second example, t-shirt was obtained as the most similar word to shirt which is a hyperonym to shirt. The first 6 words obtained in both the cases are the synonyms. "
      ]
    },
    {
      "cell_type": "markdown",
      "metadata": {
        "id": "cLN6DcivSQ6T"
      },
      "source": [
        "## Problem 2: Plotting similar words"
      ]
    },
    {
      "cell_type": "markdown",
      "metadata": {
        "id": "-mUsO9dSSQ6U"
      },
      "source": [
        "Your next task is to visualize the word embedding space by a plot. To do so, you will have to reduce the dimensionality of the space from 300 to 2&nbsp;dimensions. One suitable algorithm for this is [T-distributed Stochastic Neighbor Embedding](https://en.wikipedia.org/wiki/T-distributed_stochastic_neighbor_embedding) (TSNE), which is implemented in scikit-learn&rsquo;s [TSNE](https://scikit-learn.org/stable/modules/generated/sklearn.manifold.TSNE.html) class.\n",
        "\n",
        "Write a function `plot_most_similar` that takes a list of words (lexemes) and does the following:\n",
        "\n",
        "1. For each word in the list, find the most similar words (lexemes) in the spaCy vocabulary.\n",
        "2. Compute the TSNE transformation of the corresponding vectors to 2&nbsp;dimensions.\n",
        "3. Produce a scatter plot of the transformed vectors, with the vectors as points and the corresponding word forms as labels."
      ]
    },
    {
      "cell_type": "code",
      "metadata": {
        "id": "wt7JtWNnSQ6U"
      },
      "source": [
        "import matplotlib.pyplot as plt\n",
        "import numpy as np\n",
        "from sklearn.manifold import TSNE\n",
        "def plot_most_similar(word_list):\n",
        "    v = []\n",
        "    sim_word_list = []\n",
        "    for word in word_list:\n",
        "        w1 = word.vector\n",
        "        sim_word = most_similar(w1)\n",
        "        sim_word_list.extend(sim_word)\n",
        "        for sw in sim_word:\n",
        "            v.append(np.array(sw.vector.reshape((1,300))[0]).reshape((1,300)))\n",
        "    v1 = np.array([v[i][0] for i in range(len(v))])\n",
        "    v1_embedding = TSNE(n_components=2).fit_transform(v1)\n",
        "    v1_embedding = np.array(v1_embedding)\n",
        "    \n",
        "    # Plotting each word against it's features\n",
        "    for i in range(50):\n",
        "        if i < 9:\n",
        "            plt.scatter(v1_embedding[:,0][i],v1_embedding[:,1][i],c = \"blue\")\n",
        "        elif i == 9:\n",
        "            plt.scatter(v1_embedding[:,0][i],v1_embedding[:,1][i],c = \"blue\",label = \"cheese\")\n",
        "        elif i >= 10 and i < 19:\n",
        "            plt.scatter(v1_embedding[:,0][i],v1_embedding[:,1][i],c = \"red\")\n",
        "        elif i == 19:\n",
        "            plt.scatter(v1_embedding[:,0][i],v1_embedding[:,1][i],c = \"red\",label = \"goat\")\n",
        "        elif i >= 20 and i < 29:\n",
        "            plt.scatter(v1_embedding[:,0][i],v1_embedding[:,1][i],c = \"black\")\n",
        "        elif i == 29:\n",
        "            plt.scatter(v1_embedding[:,0][i],v1_embedding[:,1][i],c = \"black\",label = \"sweden\")\n",
        "        elif i >= 30 and i < 39:\n",
        "            plt.scatter(v1_embedding[:,0][i],v1_embedding[:,1][i],c = \"green\")\n",
        "        elif i == 39:\n",
        "            plt.scatter(v1_embedding[:,0][i],v1_embedding[:,1][i],c = \"green\",label = \"university\")\n",
        "        elif i >= 40 and i < 49:\n",
        "            plt.scatter(v1_embedding[:,0][i],v1_embedding[:,1][i],c = \"yellow\")\n",
        "        elif i == 49:\n",
        "            plt.scatter(v1_embedding[:,0][i],v1_embedding[:,1][i],c = \"yellow\",label = \"computer\")\n",
        "    plt.legend()"
      ],
      "execution_count": 9,
      "outputs": []
    },
    {
      "cell_type": "markdown",
      "metadata": {
        "id": "FBdbkRC_SQ6V"
      },
      "source": [
        "Test your code by running the following cell:"
      ]
    },
    {
      "cell_type": "code",
      "metadata": {
        "colab": {
          "base_uri": "https://localhost:8080/",
          "height": 0
        },
        "id": "5WKal-z1SQ6W",
        "outputId": "86806875-6c1e-404d-9ca5-1c126dd66921"
      },
      "source": [
        "plot_most_similar(nlp.vocab[w] for w in ['cheese', 'goat', 'sweden', 'university', 'computer'])"
      ],
      "execution_count": 10,
      "outputs": [
        {
          "output_type": "display_data",
          "data": {
            "image/png": "[encoded data removed]",
            "text/plain": [
              "<Figure size 432x288 with 1 Axes>"
            ]
          },
          "metadata": {
            "tags": [],
            "needs_background": "light"
          }
        }
      ]
    },
    {
      "cell_type": "markdown",
      "metadata": {
        "id": "D1Ok06x1SQ6W"
      },
      "source": [
        "Take a few minutes to look at your plot. What does it tell you? What does it *not* tell you?"
      ]
    },
    {
      "cell_type": "markdown",
      "metadata": {
        "id": "qtPwQXMCSQ6X"
      },
      "source": [
        "The plot says that the words that are most similar are close to each other though there can be some execptions. It however does not tell that the words which are far are not related, could be most similar than the words that are actually related."
      ]
    },
    {
      "cell_type": "markdown",
      "metadata": {
        "id": "oDoL8IuWSQ6X"
      },
      "source": [
        "## Problem 3: Analogies"
      ]
    },
    {
      "cell_type": "markdown",
      "metadata": {
        "id": "dfJU0I3XSQ6X"
      },
      "source": [
        "In a **word analogy task** you are given three words $x$, $y$, $z$ and have to predict a word $w$ that has the same semantic relation to $z$ as $y$ has to $x$. One example is *man*, *woman*, *brother*, the expected answer being *sister* (the semantic relation is *male*/*female*).\n",
        "\n",
        "[Mikolov et al. (2013)](http://www.aclweb.org/anthology/N13-1090) have shown that some types of word analogy tasks can be solved by adding and substracting word vectors in a word embedding: the vector for *sister* is the closest vector (in terms of cosine distance) to the vector *brother* $-$ *man* $+$ *woman*. Your next task is to write a function `fourth` that takes in three words (say *brother*, *man*, *woman*) and predicts the word that completes the analogy (in this case, *sister*)."
      ]
    },
    {
      "cell_type": "code",
      "metadata": {
        "id": "z0GepBnVSQ6X"
      },
      "source": [
        "def fourth(x,y,z):\n",
        "    w = x.vector - y.vector + z.vector\n",
        "    sm = most_similar(w,n=1)\n",
        "    return sm[0]"
      ],
      "execution_count": 11,
      "outputs": []
    },
    {
      "cell_type": "markdown",
      "metadata": {
        "id": "KJtc2kgzSQ6Y"
      },
      "source": [
        "Test your code by running the following code. You should get *sister*."
      ]
    },
    {
      "cell_type": "code",
      "metadata": {
        "colab": {
          "base_uri": "https://localhost:8080/",
          "height": 35
        },
        "id": "QvyTxT06SQ6Y",
        "outputId": "90a08e73-add2-4035-a92f-275dbeded73c"
      },
      "source": [
        "fourth(nlp.vocab['brother'], nlp.vocab['man'], nlp.vocab['woman']).text"
      ],
      "execution_count": 12,
      "outputs": [
        {
          "output_type": "execute_result",
          "data": {
            "application/vnd.google.colaboratory.intrinsic+json": {
              "type": "string"
            },
            "text/plain": [
              "'SISTER'"
            ]
          },
          "metadata": {
            "tags": []
          },
          "execution_count": 12
        }
      ]
    },
    {
      "cell_type": "code",
      "metadata": {
        "colab": {
          "base_uri": "https://localhost:8080/",
          "height": 35
        },
        "id": "5NH7FfuuSQ6Y",
        "outputId": "dfc383b6-6dc6-4dd7-e503-564aaf262ad6"
      },
      "source": [
        "fourth(nlp.vocab['Stockholm'], nlp.vocab['Sweden'], nlp.vocab['Germany']).text"
      ],
      "execution_count": 13,
      "outputs": [
        {
          "output_type": "execute_result",
          "data": {
            "application/vnd.google.colaboratory.intrinsic+json": {
              "type": "string"
            },
            "text/plain": [
              "'BERLIN'"
            ]
          },
          "metadata": {
            "tags": []
          },
          "execution_count": 13
        }
      ]
    },
    {
      "cell_type": "code",
      "metadata": {
        "colab": {
          "base_uri": "https://localhost:8080/",
          "height": 35
        },
        "id": "jXPLNG6ySQ6Z",
        "outputId": "17b16678-47d2-434c-9d63-547251e2b230"
      },
      "source": [
        "fourth(nlp.vocab['Swedish'], nlp.vocab['Sweden'], nlp.vocab['France']).text"
      ],
      "execution_count": 14,
      "outputs": [
        {
          "output_type": "execute_result",
          "data": {
            "application/vnd.google.colaboratory.intrinsic+json": {
              "type": "string"
            },
            "text/plain": [
              "'FRENCH'"
            ]
          },
          "metadata": {
            "tags": []
          },
          "execution_count": 14
        }
      ]
    },
    {
      "cell_type": "code",
      "metadata": {
        "colab": {
          "base_uri": "https://localhost:8080/",
          "height": 35
        },
        "id": "Amjmd6dbSQ6Z",
        "outputId": "07c862db-5cd0-4039-9127-c2312d3d3a95"
      },
      "source": [
        "fourth(nlp.vocab['better'], nlp.vocab['good'], nlp.vocab['bad']).text"
      ],
      "execution_count": 15,
      "outputs": [
        {
          "output_type": "execute_result",
          "data": {
            "application/vnd.google.colaboratory.intrinsic+json": {
              "type": "string"
            },
            "text/plain": [
              "'WORSE'"
            ]
          },
          "metadata": {
            "tags": []
          },
          "execution_count": 15
        }
      ]
    },
    {
      "cell_type": "code",
      "metadata": {
        "colab": {
          "base_uri": "https://localhost:8080/",
          "height": 35
        },
        "id": "mC-5XyPPSQ6a",
        "outputId": "ea7636ce-9fd3-491a-d77d-38eb03d35970"
      },
      "source": [
        "fourth(nlp.vocab['walked'], nlp.vocab['Walk'], nlp.vocab['take']).text"
      ],
      "execution_count": 16,
      "outputs": [
        {
          "output_type": "execute_result",
          "data": {
            "application/vnd.google.colaboratory.intrinsic+json": {
              "type": "string"
            },
            "text/plain": [
              "'TOOK'"
            ]
          },
          "metadata": {
            "tags": []
          },
          "execution_count": 16
        }
      ]
    },
    {
      "cell_type": "markdown",
      "metadata": {
        "id": "S0hXipFISQ6a"
      },
      "source": [
        "You should also be able to get the following:\n",
        "\n",
        "* *Stockholm* $-$ *Sweden* $+$ *Germany* $=$ *Berlin*\n",
        "* *Swedish* $-$ *Sweden* $+$ *France* $=$ *French*\n",
        "* *better* $-$ *good* $+$ *bad* $=$ *worse*\n",
        "* *walked* $-$ *walk* $+$ *take* $=$ *took*\n",
        "\n",
        "Experiment with other examples to see whether you get the expected output. Provide three examples of analogies for which the model produces the &lsquo;correct&rsquo; answer, and three examples on which the model &lsquo;failed&rsquo;. Based on your theoretical understanding of word embeddings, do you have a hypothesis as to why the model succeeds/fails in completing the analogy? Discuss this question in a short text."
      ]
    },
    {
      "cell_type": "code",
      "metadata": {
        "colab": {
          "base_uri": "https://localhost:8080/",
          "height": 35
        },
        "id": "ShM9xBGISQ6a",
        "outputId": "dd7d2c27-ce02-4ba7-ee3d-541f63726403"
      },
      "source": [
        "fourth(nlp.vocab['energy'], nlp.vocab['human'], nlp.vocab['phone']).text"
      ],
      "execution_count": 17,
      "outputs": [
        {
          "output_type": "execute_result",
          "data": {
            "application/vnd.google.colaboratory.intrinsic+json": {
              "type": "string"
            },
            "text/plain": [
              "'PHONE'"
            ]
          },
          "metadata": {
            "tags": []
          },
          "execution_count": 17
        }
      ]
    },
    {
      "cell_type": "code",
      "metadata": {
        "colab": {
          "base_uri": "https://localhost:8080/",
          "height": 35
        },
        "id": "SYWIDLHCSQ6a",
        "outputId": "f1dc316c-33af-495d-f576-f87b21ebe725"
      },
      "source": [
        "fourth(nlp.vocab['thoughts'], nlp.vocab['mind'], nlp.vocab['bottle']).text"
      ],
      "execution_count": 18,
      "outputs": [
        {
          "output_type": "execute_result",
          "data": {
            "application/vnd.google.colaboratory.intrinsic+json": {
              "type": "string"
            },
            "text/plain": [
              "'BOTTLE'"
            ]
          },
          "metadata": {
            "tags": []
          },
          "execution_count": 18
        }
      ]
    },
    {
      "cell_type": "code",
      "metadata": {
        "colab": {
          "base_uri": "https://localhost:8080/",
          "height": 35
        },
        "id": "kG6g5YtOSQ6b",
        "outputId": "4a9307ca-06ed-473c-addc-689da5a4c66c"
      },
      "source": [
        "fourth(nlp.vocab['blue'], nlp.vocab['sky'], nlp.vocab['tree']).text"
      ],
      "execution_count": 19,
      "outputs": [
        {
          "output_type": "execute_result",
          "data": {
            "application/vnd.google.colaboratory.intrinsic+json": {
              "type": "string"
            },
            "text/plain": [
              "'TREE'"
            ]
          },
          "metadata": {
            "tags": []
          },
          "execution_count": 19
        }
      ]
    },
    {
      "cell_type": "code",
      "metadata": {
        "colab": {
          "base_uri": "https://localhost:8080/",
          "height": 35
        },
        "id": "a8fqYmRcSQ6b",
        "outputId": "c06dcac2-e8e7-4b97-aeb2-5d29f27a0a46"
      },
      "source": [
        "fourth(nlp.vocab['baby'], nlp.vocab['human'], nlp.vocab['tiger']).text"
      ],
      "execution_count": 20,
      "outputs": [
        {
          "output_type": "execute_result",
          "data": {
            "application/vnd.google.colaboratory.intrinsic+json": {
              "type": "string"
            },
            "text/plain": [
              "'TIGER'"
            ]
          },
          "metadata": {
            "tags": []
          },
          "execution_count": 20
        }
      ]
    },
    {
      "cell_type": "markdown",
      "metadata": {
        "id": "ysLhdy9MSQ6b"
      },
      "source": [
        "The above are few examples where the model of the analogy is correct and the ones where the model fails. Word embeddings works well only if the words have lingustic similarity which are the only similarity that can be guessed by the model analogy. The other analogies like phone needs charge like humans need energy could not be detected by the model as this involves logic behind the analogy.Similarly, tiger baby is a cub while human baby is just baby this also couldnt be understood by the model."
      ]
    },
    {
      "cell_type": "markdown",
      "metadata": {
        "id": "iDIAPTkvSQ6c"
      },
      "source": [
        "## Natural language inference dataset"
      ]
    },
    {
      "cell_type": "markdown",
      "metadata": {
        "id": "ZI4PFPBvSQ6c"
      },
      "source": [
        "In the second part of this lab, you will be evaluating the usefulness of word embeddings in the context of a natural language inference task. The data for this part is the [SNLI corpus](https://nlp.stanford.edu/projects/snli/), a collection of 570k human-written English image caption pairs manually labeled with the labels *Entailment*, *Contradiction*, and *Neutral*. Consider the following sentence pair as an example:\n",
        "\n",
        "* Sentence 1: A soccer game with multiple males playing.\n",
        "* Sentence 2: Some men are playing a sport.\n",
        "\n",
        "This pair is labeled with *Entailment*, because sentence&nbsp;2 is logically entailed (implied) by sentence&nbsp;1 – if sentence&nbsp;1 is true, then sentence&nbsp;2 is true, too. The following sentence pair, on the other hand, is labeled with *Contradiction*, because both sentences cannot be true at the same time.\n",
        "\n",
        "* Sentence 1: A black race car starts up in front of a crowd of people.\n",
        "* Sentence 2: A man is driving down a lonely road.\n",
        "\n",
        "For detailed information about the corpus, refer to [Bowman et al. (2015)](https://www.aclweb.org/anthology/D15-1075/). For this lab, we load the training portion and the development portion of the dataset.\n",
        "\n",
        "**Note:** Because the SNLI corpus is rather big, we initially only load a small portion (25,000 samples) of the training data. Once you have working code for Problems&nbsp;4–6, you should set the flag `final` to `True` and re-run all cells with the full dataset."
      ]
    },
    {
      "cell_type": "code",
      "metadata": {
        "colab": {
          "base_uri": "https://localhost:8080/"
        },
        "id": "fsLxLwOiSQ6d",
        "outputId": "21b2d215-cf82-409e-a7b6-c5584b3bb0fa"
      },
      "source": [
        "import bz2\n",
        "import pandas as pd\n",
        "\n",
        "final_evaluation = False    # TODO: Set to True for the final evaluation!\n",
        "\n",
        "with bz2.open('train.jsonl.bz2', 'rt') as source:\n",
        "    if final_evaluation:\n",
        "        df_train = pd.read_json(source, lines=True)\n",
        "    else:\n",
        "        df_train = pd.read_json(source, lines=True)\n",
        "    print('Number of sentence pairs in the training data:', len(df_train))\n",
        "\n",
        "with bz2.open('dev.jsonl.bz2', 'rt') as source:\n",
        "    df_dev = pd.read_json(source, lines=True)\n",
        "    print('Number of sentence pairs in the development data:', len(df_dev))"
      ],
      "execution_count": 22,
      "outputs": [
        {
          "output_type": "stream",
          "text": [
            "Number of sentence pairs in the training data: 549367\n",
            "Number of sentence pairs in the development data: 9842\n"
          ],
          "name": "stdout"
        }
      ]
    },
    {
      "cell_type": "code",
      "metadata": {
        "id": "nkkfxX-PSQ6d"
      },
      "source": [
        "df_train = df_train[:25000]"
      ],
      "execution_count": 23,
      "outputs": []
    },
    {
      "cell_type": "markdown",
      "metadata": {
        "id": "4uj4pSxoSQ6d"
      },
      "source": [
        "When you inspect the data frames, you will see that we have preprocessed the sentences and separated tokens by spaces. In the columns `tagged1` and `tagged2`, we have added the part-of-speech tags for every token (as predicted by spaCy), also separated by spaces."
      ]
    },
    {
      "cell_type": "code",
      "metadata": {
        "colab": {
          "base_uri": "https://localhost:8080/",
          "height": 279
        },
        "id": "va_JMeC9SQ6e",
        "outputId": "b01dd0d2-74c8-4796-a4a9-28dd8984cbd1"
      },
      "source": [
        "df_train.head()"
      ],
      "execution_count": 24,
      "outputs": [
        {
          "output_type": "execute_result",
          "data": {
            "text/html": [
              "<div>\n",
              "<style scoped>\n",
              "    .dataframe tbody tr th:only-of-type {\n",
              "        vertical-align: middle;\n",
              "    }\n",
              "\n",
              "    .dataframe tbody tr th {\n",
              "        vertical-align: top;\n",
              "    }\n",
              "\n",
              "    .dataframe thead th {\n",
              "        text-align: right;\n",
              "    }\n",
              "</style>\n",
              "<table border=\"1\" class=\"dataframe\">\n",
              "  <thead>\n",
              "    <tr style=\"text-align: right;\">\n",
              "      <th></th>\n",
              "      <th>gold_label</th>\n",
              "      <th>sentence1</th>\n",
              "      <th>tags1</th>\n",
              "      <th>sentence2</th>\n",
              "      <th>tags2</th>\n",
              "    </tr>\n",
              "  </thead>\n",
              "  <tbody>\n",
              "    <tr>\n",
              "      <th>0</th>\n",
              "      <td>neutral</td>\n",
              "      <td>A person on a horse jumps over a broken down a...</td>\n",
              "      <td>DET NOUN ADP DET NOUN VERB ADP DET ADJ ADP NOU...</td>\n",
              "      <td>A person is training his horse for a competiti...</td>\n",
              "      <td>DET NOUN AUX VERB PRON NOUN ADP DET NOUN PUNCT</td>\n",
              "    </tr>\n",
              "    <tr>\n",
              "      <th>1</th>\n",
              "      <td>contradiction</td>\n",
              "      <td>A person on a horse jumps over a broken down a...</td>\n",
              "      <td>DET NOUN ADP DET NOUN VERB ADP DET ADJ ADP NOU...</td>\n",
              "      <td>A person is at a diner , ordering an omelette .</td>\n",
              "      <td>DET NOUN AUX ADP DET NOUN PUNCT VERB DET NOUN ...</td>\n",
              "    </tr>\n",
              "    <tr>\n",
              "      <th>2</th>\n",
              "      <td>entailment</td>\n",
              "      <td>A person on a horse jumps over a broken down a...</td>\n",
              "      <td>DET NOUN ADP DET NOUN VERB ADP DET ADJ ADP NOU...</td>\n",
              "      <td>A person is outdoors , on a horse .</td>\n",
              "      <td>DET NOUN AUX ADV PUNCT ADP DET NOUN PUNCT</td>\n",
              "    </tr>\n",
              "    <tr>\n",
              "      <th>3</th>\n",
              "      <td>neutral</td>\n",
              "      <td>Children smiling and waving at camera</td>\n",
              "      <td>NOUN VERB CCONJ VERB ADP NOUN</td>\n",
              "      <td>They are smiling at their parents</td>\n",
              "      <td>PRON AUX VERB ADP PRON NOUN</td>\n",
              "    </tr>\n",
              "    <tr>\n",
              "      <th>4</th>\n",
              "      <td>entailment</td>\n",
              "      <td>Children smiling and waving at camera</td>\n",
              "      <td>NOUN VERB CCONJ VERB ADP NOUN</td>\n",
              "      <td>There are children present</td>\n",
              "      <td>PRON AUX NOUN ADJ</td>\n",
              "    </tr>\n",
              "  </tbody>\n",
              "</table>\n",
              "</div>"
            ],
            "text/plain": [
              "      gold_label  ...                                              tags2\n",
              "0        neutral  ...     DET NOUN AUX VERB PRON NOUN ADP DET NOUN PUNCT\n",
              "1  contradiction  ...  DET NOUN AUX ADP DET NOUN PUNCT VERB DET NOUN ...\n",
              "2     entailment  ...          DET NOUN AUX ADV PUNCT ADP DET NOUN PUNCT\n",
              "3        neutral  ...                        PRON AUX VERB ADP PRON NOUN\n",
              "4     entailment  ...                                  PRON AUX NOUN ADJ\n",
              "\n",
              "[5 rows x 5 columns]"
            ]
          },
          "metadata": {
            "tags": []
          },
          "execution_count": 24
        }
      ]
    },
    {
      "cell_type": "markdown",
      "metadata": {
        "id": "4pydwfqXSQ6e"
      },
      "source": [
        "## Problem 4: Two simple baselines"
      ]
    },
    {
      "cell_type": "markdown",
      "metadata": {
        "id": "P4HRjvNuSQ6e"
      },
      "source": [
        "Your first task is to establish two simple baselines for the natural language inference task."
      ]
    },
    {
      "cell_type": "markdown",
      "metadata": {
        "id": "Cp5OZyIuSQ6f"
      },
      "source": [
        "### Random baseline\n",
        "\n",
        "Implement the standard random baseline that generates prediction by sampling from the empirical distribution of the classes in the training data. Write code to evaluate the performance of this classifier on the development data."
      ]
    },
    {
      "cell_type": "code",
      "metadata": {
        "colab": {
          "base_uri": "https://localhost:8080/"
        },
        "id": "MMZmojCiSQ6f",
        "outputId": "004867d4-3199-4d3b-98c7-de09a07dce2c"
      },
      "source": [
        "from sklearn.dummy import DummyClassifier\n",
        "from sklearn.metrics import classification_report\n",
        "\n",
        "dummy_clf = DummyClassifier(strategy=\"stratified\",random_state = 25)\n",
        "dummy_clf.fit(df_train['sentence1'] + df_train['sentence2'],df_train['gold_label'])\n",
        "DummyClassifier(strategy='stratified',random_state = 25)\n",
        "pred_dum = dummy_clf.predict(df_dev['sentence1'] + df_dev['sentence2'])\n",
        "print(\"The Prediction score is found to be:\",dummy_clf.score(df_dev['sentence1'] + df_dev['sentence2'],df_dev['gold_label']))\n",
        "print(classification_report(df_dev['gold_label'],pred_dum, target_names=np.unique(df_train['gold_label'])))"
      ],
      "execution_count": 25,
      "outputs": [
        {
          "output_type": "stream",
          "text": [
            "The Prediction score is found to be: 0.3409876041454989\n",
            "               precision    recall  f1-score   support\n",
            "\n",
            "contradiction       0.34      0.35      0.34      3278\n",
            "   entailment       0.34      0.34      0.34      3329\n",
            "      neutral       0.34      0.34      0.34      3235\n",
            "\n",
            "     accuracy                           0.34      9842\n",
            "    macro avg       0.34      0.34      0.34      9842\n",
            " weighted avg       0.34      0.34      0.34      9842\n",
            "\n"
          ],
          "name": "stdout"
        }
      ]
    },
    {
      "cell_type": "markdown",
      "metadata": {
        "id": "vI0VcVJWSQ6f"
      },
      "source": [
        "### One-sided baseline\n",
        "\n",
        "A second obvious baseline for the inference task is to predict the class label of a sentence pair based on the text of only one of the two sentences, just as in a standard document classification task. Put together a simple [CountVectorizer](https://scikit-learn.org/stable/modules/generated/sklearn.feature_extraction.text.CountVectorizer.html) + [LogisticRegression](https://scikit-learn.org/stable/modules/generated/sklearn.linear_model.LogisticRegression.html) pipeline that implements this idea, train it, and evaluate it on the development data. Is it better to base predictions on sentence&nbsp;1 or sentence&nbsp;2? Why should one sentence be more useful than the other?"
      ]
    },
    {
      "cell_type": "code",
      "metadata": {
        "colab": {
          "base_uri": "https://localhost:8080/"
        },
        "id": "n44oHOwFSQ6f",
        "outputId": "02fb9b58-f71a-437b-fdeb-c68efafde1a5"
      },
      "source": [
        "from sklearn.feature_extraction.text import CountVectorizer\n",
        "from sklearn.linear_model import LogisticRegression\n",
        "from sklearn.metrics import classification_report\n",
        "from sklearn.pipeline import Pipeline\n",
        "\n",
        "pipe = Pipeline([(\"vectorizer\", CountVectorizer()), (\"classifier\", LogisticRegression(max_iter=500))])\n",
        "\n",
        "# Training sentence 1 \n",
        "pipe.fit(df_train['sentence1'],df_train['gold_label'])\n",
        "pred_dum = pipe.predict(df_dev['sentence1'])\n",
        "print(\"The Prediction score is found to be:\",pipe.score(df_dev['sentence1'],df_dev['gold_label']))\n",
        "print(classification_report(df_dev['gold_label'],pred_dum, target_names=np.unique(df_train['gold_label'])))\n",
        "\n",
        "# Training Sentence 2\n",
        "pipe.fit(df_train['sentence2'],df_train['gold_label'])\n",
        "pred_dum = pipe.predict(df_dev['sentence2'])\n",
        "print(\"The Prediction score is found to be:\",pipe.score(df_dev['sentence2'],df_dev['gold_label']))\n",
        "print(classification_report(df_dev['gold_label'],pred_dum, target_names=np.unique(df_train['gold_label'])))"
      ],
      "execution_count": 26,
      "outputs": [
        {
          "output_type": "stream",
          "text": [
            "The Prediction score is found to be: 0.3306238569396464\n",
            "               precision    recall  f1-score   support\n",
            "\n",
            "contradiction       0.33      0.25      0.28      3278\n",
            "   entailment       0.33      0.34      0.34      3329\n",
            "      neutral       0.33      0.40      0.36      3235\n",
            "\n",
            "     accuracy                           0.33      9842\n",
            "    macro avg       0.33      0.33      0.33      9842\n",
            " weighted avg       0.33      0.33      0.33      9842\n",
            "\n",
            "The Prediction score is found to be: 0.6021133915870758\n",
            "               precision    recall  f1-score   support\n",
            "\n",
            "contradiction       0.60      0.60      0.60      3278\n",
            "   entailment       0.59      0.65      0.62      3329\n",
            "      neutral       0.62      0.56      0.59      3235\n",
            "\n",
            "     accuracy                           0.60      9842\n",
            "    macro avg       0.60      0.60      0.60      9842\n",
            " weighted avg       0.60      0.60      0.60      9842\n",
            "\n"
          ],
          "name": "stdout"
        }
      ]
    },
    {
      "cell_type": "markdown",
      "metadata": {
        "id": "Qcv4mc1GSQ6g"
      },
      "source": [
        "The accuracy in case of sentence 2 is better. This could be because the second sentence either supports the first or opposed the first. Hence if we know the first question, we can guess the second one."
      ]
    },
    {
      "cell_type": "markdown",
      "metadata": {
        "id": "C3H89o27SQ6g"
      },
      "source": [
        "## Problem 5: A classifier based on manually engineered features"
      ]
    },
    {
      "cell_type": "markdown",
      "metadata": {
        "id": "nf5r7-7NSQ6g"
      },
      "source": [
        "[Bowman et al., 2015](https://www.aclweb.org/anthology/D15-1075/) evaluate a classifier that uses (among others) **cross-unigram features**. This term is used to refer to pairs of unigrams $(w_1, w_2)$ such that $w_1$ occurs in sentence&nbsp;1, $w_2$ occurs in sentence&nbsp;2, and both have been assigned the same part-of-speech tag.\n",
        "\n",
        "Your next task is to implement the cross-unigram classifier. To this end, the next cell contains skeleton code for a transformer that you can use as the first component in a classification pipeline. This transformer converts each row of the SNLI data frame into a space-separated string consisting of\n",
        "\n",
        "* the standard unigrams (of sentence&nbsp;1 or sentence&nbsp;2 – choose whichever performed better in Problem&nbsp;4)\n",
        "* the cross-unigrams, as described above.\n",
        "\n",
        "The space-separated string forms a new &lsquo;document&rsquo; that can be passed to a vectorizer in exactly the same way as a standard sentence in Problem&nbsp;4."
      ]
    },
    {
      "cell_type": "code",
      "metadata": {
        "id": "3RO-17LTSQ6g"
      },
      "source": [
        "from sklearn.base import BaseEstimator, TransformerMixin\n",
        "from itertools import product\n",
        "\n",
        "class CrossUnigramsTransformer(BaseEstimator, TransformerMixin):\n",
        "    def __init__(self):\n",
        "        pass\n",
        "\n",
        "    def fit(self, X, y=None):\n",
        "        return self\n",
        "\n",
        "    # Transform a single row of the dataframe.\n",
        "    def _transform(self, row):\n",
        "        \n",
        "        # Getting tags from the row\n",
        "        tags1 = np.array(row.tags1.split())\n",
        "        tags2 = np.array(row.tags2.split())  \n",
        "        \n",
        "        tags1 = np.delete(tags1, np.argwhere(tags1 == 'SPACE'))\n",
        "        tags2 = np.delete(tags2, np.argwhere(tags2 == 'SPACE'))\n",
        "        \n",
        "        # Getting sentences from the row\n",
        "        sentence1 = np.array(row.sentence1.split())\n",
        "        sentence2 = np.array(row.sentence2.split())\n",
        "        \n",
        "        cross_unigrams = []\n",
        "        \n",
        "        for uts in np.unique(tags1):# iterating over unique tags in Sentence 1 as this used as the reference to Sentence 2\n",
        "            ut1 = sentence1[np.where(np.array(tags1) == uts)] # Searching for unique tags in Sentence 1\n",
        "            ut2 = sentence2[np.where(np.array(tags2) == uts)] # Searching for unique tags in Sentence 2\n",
        "            \n",
        "            for cu in list(product(ut1,ut2)):\n",
        "                cross_unigrams.append(str(cu).replace(' ', ''))\n",
        "        \n",
        "        return getattr(row, 'sentence2') + ' ' + ' '.join(cross_unigrams) # Since Sentence 2 accuracy was high in Q4\n",
        "\n",
        "    def transform(self, X):\n",
        "        return [self._transform(row) for row in X.itertuples()]"
      ],
      "execution_count": 27,
      "outputs": []
    },
    {
      "cell_type": "markdown",
      "metadata": {
        "id": "5oyvcpVqSQ6g"
      },
      "source": [
        "Once you have an implementation of the transformer, extend the pipeline that you built for Problem&nbsp;4, train it, and evaluate it on the development data."
      ]
    },
    {
      "cell_type": "code",
      "metadata": {
        "colab": {
          "base_uri": "https://localhost:8080/"
        },
        "id": "83soL4nnSQ6h",
        "outputId": "eb1f7be8-6562-452a-ac47-b7e08870f7de"
      },
      "source": [
        "# Cross-unigrams classifier. \n",
        "cross_unigram_pipe = Pipeline([(\"transformer\", CrossUnigramsTransformer()), \n",
        "                              (\"vectorizer\", CountVectorizer()), \n",
        "                              (\"classifier\", LogisticRegression(max_iter=2000))])\n",
        "cross_unigram_pipe.fit(df_train.iloc[:, 1:], df_train['gold_label']) \n",
        "y_pred = cross_unigram_pipe.predict(df_dev.iloc[:, 1:])\n",
        "\n",
        "# Print the classification report.\n",
        "print('Predictions on unigrams in sentence 2 and manually engineered cross-unigrams')\n",
        "print(classification_report(df_dev['gold_label'], y_pred))"
      ],
      "execution_count": 28,
      "outputs": [
        {
          "output_type": "stream",
          "text": [
            "Predictions on unigrams in sentence 2 and manually engineered cross-unigrams\n",
            "               precision    recall  f1-score   support\n",
            "\n",
            "contradiction       0.52      0.55      0.54      3278\n",
            "   entailment       0.54      0.55      0.55      3329\n",
            "      neutral       0.54      0.49      0.51      3235\n",
            "\n",
            "     accuracy                           0.53      9842\n",
            "    macro avg       0.53      0.53      0.53      9842\n",
            " weighted avg       0.53      0.53      0.53      9842\n",
            "\n"
          ],
          "name": "stdout"
        }
      ]
    },
    {
      "cell_type": "markdown",
      "metadata": {
        "id": "5xi6R-gwSQ6h"
      },
      "source": [
        "## Problem 6: A classifier based on word embeddings"
      ]
    },
    {
      "cell_type": "markdown",
      "metadata": {
        "id": "eKJsa6Y5SQ6h"
      },
      "source": [
        "Your last task in this lab is to build a classifier for the natural language inference task that uses word embeddings. More specifically, we ask you to implement a vectorizer that represents each sentence as the sum of its word vectors – a representation known as the **continuous bag-of-words**. Thus, given that spaCy&rsquo;s word vectors have 300 dimensions, each sentence will be transformed into a 300-dimensional vector. To represent a sentence pair, the vectorizer should concatenate the vectors for the individual sentences; this yields a 600-dimensional vector. This vector can then be passed to a classifier.\n",
        "\n",
        "The next code cell contains skeleton code for the vectorizer. You will have to implement two methods: one that maps a single sentence to a vector (of length 300), and one that maps a sentence pair to a vector (of length 600)."
      ]
    },
    {
      "cell_type": "code",
      "metadata": {
        "id": "vqwVJrZUSQ6h"
      },
      "source": [
        "import numpy as np\n",
        "\n",
        "from sklearn.base import BaseEstimator, TransformerMixin\n",
        "\n",
        "class PairedSentenceVectorizer(BaseEstimator, TransformerMixin):\n",
        "    def __init__(self):\n",
        "        pass\n",
        "\n",
        "    def fit(self, X, y=None):\n",
        "        return self\n",
        "\n",
        "    # Vectorize a single sentence.\n",
        "    def _transform1(self, sentence):\n",
        "        res = np.zeros(nlp.vocab.vectors.shape[1])\n",
        "        for word in sentence:\n",
        "            res = res + nlp.vocab[word].vector\n",
        "        return np.zeros(nlp.vocab.vectors.shape[1])\n",
        "\n",
        "    # Vectorize a single row of the dataframe.\n",
        "    def _transform2(self, row):\n",
        "        vector_sentence_1 = self._transform1(row.sentence1)\n",
        "        vector_sentence_2 = self._transform1(row.sentence2)\n",
        "        \n",
        "        return np.concatenate([vector_sentence_1, vector_sentence_2])\n",
        "\n",
        "    def transform(self, X):\n",
        "        return np.concatenate(\n",
        "            [self._transform2(row).reshape(1, -1) for row in X.itertuples()]\n",
        "        )"
      ],
      "execution_count": 29,
      "outputs": []
    },
    {
      "cell_type": "markdown",
      "metadata": {
        "id": "G6krZGZwSQ6h"
      },
      "source": [
        "Once you have a working implementation, build a pipeline consisting of the new vectorizer and a [multi-layer perceptron classifier](https://scikit-learn.org/stable/modules/generated/sklearn.neural_network.MLPClassifier.html). This more powerful (compared to logistic regression) classifier is called for here because we do not specify features by hand (as we did in Problem&nbsp;5), but want to let the model learn a good representation of the data by itself. Use 3&nbsp;hidden layers, each with size 300. It suffices to train the classifier for 8&nbsp;iterations (epochs)."
      ]
    },
    {
      "cell_type": "code",
      "metadata": {
        "colab": {
          "base_uri": "https://localhost:8080/"
        },
        "id": "9Gk8oXIKSQ6i",
        "outputId": "ee438d75-f962-49f2-a0ce-ed478fa7ee33"
      },
      "source": [
        "from sklearn.neural_network import MLPClassifier\n",
        "\n",
        "mlp_pipe = Pipeline([(\"transform\" , PairedSentenceVectorizer()),\n",
        "                    (\"clf\" , MLPClassifier(hidden_layer_sizes = (300,300,300), \n",
        "                    #activation = \"logistic\" , \n",
        "                        max_iter = 8, random_state=45))   \n",
        "                        ])\n",
        "mlp_pipe.fit(df_train.iloc[:, 1:], df_train['gold_label'])"
      ],
      "execution_count": 30,
      "outputs": [
        {
          "output_type": "stream",
          "text": [
            "/usr/local/lib/python3.6/dist-packages/sklearn/neural_network/_multilayer_perceptron.py:571: ConvergenceWarning: Stochastic Optimizer: Maximum iterations (8) reached and the optimization hasn't converged yet.\n",
            "  % self.max_iter, ConvergenceWarning)\n"
          ],
          "name": "stderr"
        },
        {
          "output_type": "execute_result",
          "data": {
            "text/plain": [
              "Pipeline(memory=None,\n",
              "         steps=[('transform', PairedSentenceVectorizer()),\n",
              "                ('clf',\n",
              "                 MLPClassifier(activation='relu', alpha=0.0001,\n",
              "                               batch_size='auto', beta_1=0.9, beta_2=0.999,\n",
              "                               early_stopping=False, epsilon=1e-08,\n",
              "                               hidden_layer_sizes=(300, 300, 300),\n",
              "                               learning_rate='constant',\n",
              "                               learning_rate_init=0.001, max_fun=15000,\n",
              "                               max_iter=8, momentum=0.9, n_iter_no_change=10,\n",
              "                               nesterovs_momentum=True, power_t=0.5,\n",
              "                               random_state=45, shuffle=True, solver='adam',\n",
              "                               tol=0.0001, validation_fraction=0.1,\n",
              "                               verbose=False, warm_start=False))],\n",
              "         verbose=False)"
            ]
          },
          "metadata": {
            "tags": []
          },
          "execution_count": 30
        }
      ]
    },
    {
      "cell_type": "code",
      "metadata": {
        "colab": {
          "base_uri": "https://localhost:8080/"
        },
        "id": "G7_8U1E4SQ6i",
        "outputId": "4a84c7be-6326-44e9-e371-89f983d9acb2"
      },
      "source": [
        "y_pred = mlp_pipe.predict(df_dev.iloc[:, 1:])\n",
        "\n",
        "# Print the classification report.\n",
        "print('Predictions on unigrams in sentence 2 and manually engineered cross-unigrams')\n",
        "print(classification_report(df_dev['gold_label'], y_pred))"
      ],
      "execution_count": 31,
      "outputs": [
        {
          "output_type": "stream",
          "text": [
            "Predictions on unigrams in sentence 2 and manually engineered cross-unigrams\n"
          ],
          "name": "stdout"
        },
        {
          "output_type": "stream",
          "text": [
            "/usr/local/lib/python3.6/dist-packages/sklearn/metrics/_classification.py:1272: UndefinedMetricWarning: Precision and F-score are ill-defined and being set to 0.0 in labels with no predicted samples. Use `zero_division` parameter to control this behavior.\n",
            "  _warn_prf(average, modifier, msg_start, len(result))\n"
          ],
          "name": "stderr"
        },
        {
          "output_type": "stream",
          "text": [
            "               precision    recall  f1-score   support\n",
            "\n",
            "contradiction       0.00      0.00      0.00      3278\n",
            "   entailment       0.00      0.00      0.00      3329\n",
            "      neutral       0.33      1.00      0.49      3235\n",
            "\n",
            "     accuracy                           0.33      9842\n",
            "    macro avg       0.11      0.33      0.16      9842\n",
            " weighted avg       0.11      0.33      0.16      9842\n",
            "\n"
          ],
          "name": "stdout"
        }
      ]
    },
    {
      "cell_type": "markdown",
      "metadata": {
        "id": "qgtK2BvNSQ6i"
      },
      "source": [
        "## Problem 7: Final evaluation"
      ]
    },
    {
      "cell_type": "markdown",
      "metadata": {
        "id": "pFbJ6mqCSQ6i"
      },
      "source": [
        "Once you have working code for all problems, re-run Problems&nbsp;4–6 with the full training data. This will take quite a while (expect approximately 1&;nbsp;hour on Colab). **Make sure to not overwrite your previous results.** What are your results on the full data? How do they differ from the results that you obtained for the smaller training data? How do you interpret this? Summarize your findings in a short text."
      ]
    },
    {
      "cell_type": "code",
      "metadata": {
        "colab": {
          "base_uri": "https://localhost:8080/"
        },
        "id": "D7yegh80SQ6j",
        "outputId": "66ebbf98-8874-43f5-ed19-ccc815408b57"
      },
      "source": [
        "# TODO: Enter your code for the full experiments here\r\n",
        "final_evaluation = False    # TODO: Set to True for the final evaluation!\r\n",
        "\r\n",
        "with bz2.open('train.jsonl.bz2', 'rt') as source:\r\n",
        "    if final_evaluation:\r\n",
        "        df_train = pd.read_json(source, lines=True)\r\n",
        "    else:\r\n",
        "        df_train = pd.read_json(source, lines=True)\r\n",
        "    print('Number of sentence pairs in the training data:', len(df_train))\r\n",
        "\r\n",
        "with bz2.open('dev.jsonl.bz2', 'rt') as source:\r\n",
        "    df_dev = pd.read_json(source, lines=True)\r\n",
        "    print('Number of sentence pairs in the development data:', len(df_dev))"
      ],
      "execution_count": 33,
      "outputs": [
        {
          "output_type": "stream",
          "text": [
            "Number of sentence pairs in the training data: 549367\n",
            "Number of sentence pairs in the development data: 9842\n"
          ],
          "name": "stdout"
        }
      ]
    },
    {
      "cell_type": "code",
      "metadata": {
        "colab": {
          "base_uri": "https://localhost:8080/"
        },
        "id": "Wr6V1wA8VtSA",
        "outputId": "5791c321-5c8a-496b-eb0b-123a740fb74b"
      },
      "source": [
        "# Random Baseline with full data\n",
        "\n",
        "dummy_clf = DummyClassifier(strategy=\"stratified\",random_state = 25)\n",
        "dummy_clf.fit(df_train['sentence1'] + df_train['sentence2'],df_train['gold_label'])\n",
        "DummyClassifier(strategy='stratified',random_state = 25)\n",
        "pred_dum = dummy_clf.predict(df_dev['sentence1'] + df_dev['sentence2'])\n",
        "print(\"The Prediction score is found to be:\",dummy_clf.score(df_dev['sentence1'] + df_dev['sentence2'],df_dev['gold_label']))\n",
        "print(classification_report(df_dev['gold_label'],pred_dum, target_names=np.unique(df_train['gold_label'])))"
      ],
      "execution_count": 34,
      "outputs": [
        {
          "output_type": "stream",
          "text": [
            "The Prediction score is found to be: 0.3361105466368624\n",
            "               precision    recall  f1-score   support\n",
            "\n",
            "contradiction       0.34      0.34      0.34      3278\n",
            "   entailment       0.34      0.34      0.34      3329\n",
            "      neutral       0.33      0.33      0.33      3235\n",
            "\n",
            "     accuracy                           0.34      9842\n",
            "    macro avg       0.34      0.34      0.34      9842\n",
            " weighted avg       0.34      0.34      0.34      9842\n",
            "\n"
          ],
          "name": "stdout"
        }
      ]
    },
    {
      "cell_type": "code",
      "metadata": {
        "colab": {
          "base_uri": "https://localhost:8080/"
        },
        "id": "p4eyhGUsVtSQ",
        "outputId": "f64670c2-2ad0-49b5-b4e9-4c4a9e479424"
      },
      "source": [
        "# Logistic Baseline Method for Full data\n",
        "\n",
        "pipe = Pipeline([(\"vectorizer\", CountVectorizer()), (\"classifier\", LogisticRegression(max_iter=500))])\n",
        "\n",
        "# Training sentence 1 \n",
        "pipe.fit(df_train['sentence1'],df_train['gold_label'])\n",
        "pred_dum = pipe.predict(df_dev['sentence1'])\n",
        "print(\"The Prediction score is found to be:\",pipe.score(df_dev['sentence1'],df_dev['gold_label']))\n",
        "print(classification_report(df_dev['gold_label'],pred_dum, target_names=np.unique(df_train['gold_label'])))\n",
        "\n",
        "# Training Sentence 2\n",
        "pipe.fit(df_train['sentence2'],df_train['gold_label'])\n",
        "pred_dum = pipe.predict(df_dev['sentence2'])\n",
        "print(\"The Prediction score is found to be:\",pipe.score(df_dev['sentence2'],df_dev['gold_label']))\n",
        "print(classification_report(df_dev['gold_label'],pred_dum, target_names=np.unique(df_train['gold_label'])))"
      ],
      "execution_count": 41,
      "outputs": [
        {
          "output_type": "stream",
          "text": [
            "/usr/local/lib/python3.6/dist-packages/sklearn/linear_model/_logistic.py:940: ConvergenceWarning: lbfgs failed to converge (status=1):\n",
            "STOP: TOTAL NO. of ITERATIONS REACHED LIMIT.\n",
            "\n",
            "Increase the number of iterations (max_iter) or scale the data as shown in:\n",
            "    https://scikit-learn.org/stable/modules/preprocessing.html\n",
            "Please also refer to the documentation for alternative solver options:\n",
            "    https://scikit-learn.org/stable/modules/linear_model.html#logistic-regression\n",
            "  extra_warning_msg=_LOGISTIC_SOLVER_CONVERGENCE_MSG)\n"
          ],
          "name": "stderr"
        },
        {
          "output_type": "stream",
          "text": [
            "The Prediction score is found to be: 0.33682178419020525\n",
            "               precision    recall  f1-score   support\n",
            "\n",
            "contradiction       0.34      0.25      0.29      3278\n",
            "   entailment       0.34      0.39      0.37      3329\n",
            "      neutral       0.33      0.36      0.35      3235\n",
            "\n",
            "     accuracy                           0.34      9842\n",
            "    macro avg       0.34      0.34      0.33      9842\n",
            " weighted avg       0.34      0.34      0.33      9842\n",
            "\n"
          ],
          "name": "stdout"
        },
        {
          "output_type": "stream",
          "text": [
            "/usr/local/lib/python3.6/dist-packages/sklearn/linear_model/_logistic.py:940: ConvergenceWarning: lbfgs failed to converge (status=1):\n",
            "STOP: TOTAL NO. of ITERATIONS REACHED LIMIT.\n",
            "\n",
            "Increase the number of iterations (max_iter) or scale the data as shown in:\n",
            "    https://scikit-learn.org/stable/modules/preprocessing.html\n",
            "Please also refer to the documentation for alternative solver options:\n",
            "    https://scikit-learn.org/stable/modules/linear_model.html#logistic-regression\n",
            "  extra_warning_msg=_LOGISTIC_SOLVER_CONVERGENCE_MSG)\n"
          ],
          "name": "stderr"
        },
        {
          "output_type": "stream",
          "text": [
            "The Prediction score is found to be: 0.6493598862019915\n",
            "               precision    recall  f1-score   support\n",
            "\n",
            "contradiction       0.65      0.63      0.64      3278\n",
            "   entailment       0.64      0.72      0.67      3329\n",
            "      neutral       0.67      0.60      0.63      3235\n",
            "\n",
            "     accuracy                           0.65      9842\n",
            "    macro avg       0.65      0.65      0.65      9842\n",
            " weighted avg       0.65      0.65      0.65      9842\n",
            "\n"
          ],
          "name": "stdout"
        }
      ]
    },
    {
      "cell_type": "code",
      "metadata": {
        "colab": {
          "base_uri": "https://localhost:8080/"
        },
        "id": "qNZpxEZCVtSS",
        "outputId": "adac5846-5a89-4354-dbfd-160ae5bf1587"
      },
      "source": [
        "# Cross-unigrams classifier for full data\n",
        "cross_unigram_pipe = Pipeline([(\"transformer\", CrossUnigramsTransformer()), \n",
        "                              (\"vectorizer\", CountVectorizer()), \n",
        "                              (\"classifier\", LogisticRegression(max_iter=2000))])\n",
        "cross_unigram_pipe.fit(df_train.iloc[:, 1:], df_train['gold_label']) \n",
        "y_pred = cross_unigram_pipe.predict(df_dev.iloc[:, 1:])\n",
        "\n",
        "# Print the classification report.\n",
        "print('Predictions on unigrams in sentence 2 and manually engineered cross-unigrams')\n",
        "print(classification_report(df_dev['gold_label'], y_pred))"
      ],
      "execution_count": 38,
      "outputs": [
        {
          "output_type": "stream",
          "text": [
            "/usr/local/lib/python3.6/dist-packages/sklearn/linear_model/_logistic.py:940: ConvergenceWarning: lbfgs failed to converge (status=1):\n",
            "STOP: TOTAL NO. of ITERATIONS REACHED LIMIT.\n",
            "\n",
            "Increase the number of iterations (max_iter) or scale the data as shown in:\n",
            "    https://scikit-learn.org/stable/modules/preprocessing.html\n",
            "Please also refer to the documentation for alternative solver options:\n",
            "    https://scikit-learn.org/stable/modules/linear_model.html#logistic-regression\n",
            "  extra_warning_msg=_LOGISTIC_SOLVER_CONVERGENCE_MSG)\n"
          ],
          "name": "stderr"
        },
        {
          "output_type": "stream",
          "text": [
            "Predictions on unigrams in sentence 2 and manually engineered cross-unigrams\n",
            "               precision    recall  f1-score   support\n",
            "\n",
            "contradiction       0.60      0.59      0.59      3278\n",
            "   entailment       0.57      0.67      0.62      3329\n",
            "      neutral       0.62      0.53      0.57      3235\n",
            "\n",
            "     accuracy                           0.60      9842\n",
            "    macro avg       0.60      0.60      0.59      9842\n",
            " weighted avg       0.60      0.60      0.59      9842\n",
            "\n"
          ],
          "name": "stdout"
        }
      ]
    },
    {
      "cell_type": "code",
      "metadata": {
        "colab": {
          "base_uri": "https://localhost:8080/"
        },
        "id": "U95cxD08VtSU",
        "outputId": "dcf2367c-48e9-4c29-8c12-33ff3be51f27"
      },
      "source": [
        "# MLP classifier for full data\n",
        "\n",
        "mlp_pipe = Pipeline([(\"transform\" , PairedSentenceVectorizer()),\n",
        "                    (\"clf\" , MLPClassifier(hidden_layer_sizes = (300,300,300), \n",
        "                    #activation = \"logistic\" , \n",
        "                        max_iter = 500, random_state=45))   \n",
        "                        ])\n",
        "mlp_pipe.fit(df_train.iloc[:, 1:], df_train['gold_label'])"
      ],
      "execution_count": 39,
      "outputs": [
        {
          "output_type": "execute_result",
          "data": {
            "text/plain": [
              "Pipeline(memory=None,\n",
              "         steps=[('transform', PairedSentenceVectorizer()),\n",
              "                ('clf',\n",
              "                 MLPClassifier(activation='relu', alpha=0.0001,\n",
              "                               batch_size='auto', beta_1=0.9, beta_2=0.999,\n",
              "                               early_stopping=False, epsilon=1e-08,\n",
              "                               hidden_layer_sizes=(300, 300, 300),\n",
              "                               learning_rate='constant',\n",
              "                               learning_rate_init=0.001, max_fun=15000,\n",
              "                               max_iter=500, momentum=0.9, n_iter_no_change=10,\n",
              "                               nesterovs_momentum=True, power_t=0.5,\n",
              "                               random_state=45, shuffle=True, solver='adam',\n",
              "                               tol=0.0001, validation_fraction=0.1,\n",
              "                               verbose=False, warm_start=False))],\n",
              "         verbose=False)"
            ]
          },
          "metadata": {
            "tags": []
          },
          "execution_count": 39
        }
      ]
    },
    {
      "cell_type": "code",
      "metadata": {
        "colab": {
          "base_uri": "https://localhost:8080/"
        },
        "id": "pLwZv0edVtSW",
        "outputId": "8439ee37-5165-4db8-9a00-d6ba656bcd68"
      },
      "source": [
        "y_pred = mlp_pipe.predict(df_dev.iloc[:, 1:])\n",
        "\n",
        "# Print the classification report.\n",
        "print('Predictions on unigrams in sentence 2 and manually engineered cross-unigrams')\n",
        "print(classification_report(df_dev['gold_label'], y_pred))"
      ],
      "execution_count": 40,
      "outputs": [
        {
          "output_type": "stream",
          "text": [
            "Predictions on unigrams in sentence 2 and manually engineered cross-unigrams\n"
          ],
          "name": "stdout"
        },
        {
          "output_type": "stream",
          "text": [
            "/usr/local/lib/python3.6/dist-packages/sklearn/metrics/_classification.py:1272: UndefinedMetricWarning: Precision and F-score are ill-defined and being set to 0.0 in labels with no predicted samples. Use `zero_division` parameter to control this behavior.\n",
            "  _warn_prf(average, modifier, msg_start, len(result))\n"
          ],
          "name": "stderr"
        },
        {
          "output_type": "stream",
          "text": [
            "               precision    recall  f1-score   support\n",
            "\n",
            "contradiction       0.33      1.00      0.50      3278\n",
            "   entailment       0.00      0.00      0.00      3329\n",
            "      neutral       0.00      0.00      0.00      3235\n",
            "\n",
            "     accuracy                           0.33      9842\n",
            "    macro avg       0.11      0.33      0.17      9842\n",
            " weighted avg       0.11      0.33      0.17      9842\n",
            "\n"
          ],
          "name": "stdout"
        }
      ]
    },
    {
      "cell_type": "markdown",
      "metadata": {
        "id": "L_NPQTs_SQ6j"
      },
      "source": [
        "After the using the full training data to build the classification models, the accuracy of Random Baseline is same for first 25000 rows of data as well as for full training data. The accuracy for Logistic Regression model increased by a percent from 0.33 to 0.34 for \"Sentence 1\" and 0.60 to 0.65 for \"Sentence 2\".\r\n",
        "Whereas the accuracy of the model which uses Cross Unigram Features increased from 0.53 to 0.60. The MLP Regressor model accuracy is also found to be same in both cases, the increase in Training data did not make much difference in terms of accuaracy.\r\n",
        "\r\n",
        "Hence the Logistic Regression performed when trained with \"Sentence 2\" than rest of the models."
      ]
    },
    {
      "cell_type": "markdown",
      "metadata": {
        "id": "Gd1KCXhzSQ6j"
      },
      "source": [
        "<div class=\"alert alert-info\">\n",
        "    Please read the section ‘General information’ on the ‘Labs’ page of the course website before submitting this notebook!\n",
        "</div>"
      ]
    }
  ]
}